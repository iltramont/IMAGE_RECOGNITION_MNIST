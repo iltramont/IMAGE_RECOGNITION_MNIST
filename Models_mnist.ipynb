{
 "cells": [
  {
   "cell_type": "code",
   "execution_count": 1,
   "id": "1cc421e6",
   "metadata": {},
   "outputs": [],
   "source": [
    "import numpy as np\n",
    "import pandas as pd\n",
    "import pickle\n",
    "import warnings\n",
    "\n",
    "from sklearn.utils import shuffle\n",
    "from sklearn.preprocessing import StandardScaler\n",
    "from sklearn.decomposition import PCA\n",
    "\n",
    "from sklearn.neighbors import KNeighborsClassifier\n",
    "from sklearn.linear_model import LogisticRegression\n",
    "from sklearn.ensemble import RandomForestClassifier\n",
    "\n",
    "from tensorflow.keras.datasets import mnist\n",
    "\n",
    "warnings.filterwarnings('ignore')\n",
    "\n",
    "SAVE_MODELS = False"
   ]
  },
  {
   "cell_type": "markdown",
   "id": "4363b836",
   "metadata": {},
   "source": [
    "# Data"
   ]
  },
  {
   "cell_type": "code",
   "execution_count": 2,
   "id": "b9677751",
   "metadata": {},
   "outputs": [],
   "source": [
    "(x_train, y_train), (x_test, y_test) = mnist.load_data()\n",
    "\n",
    "print(\"x_train shape:\", x_train.shape)\n",
    "print(\"x_test shape:\", x_test.shape)\n",
    "print(\"y_train shape:\", y_train.shape)\n",
    "print(\"y_test shape:\", y_test.shape)"
   ]
  },
  {
   "cell_type": "markdown",
   "id": "ea813e90-2392-4976-ba1e-a341c516db23",
   "metadata": {},
   "source": [
    "# Reshape data"
   ]
  },
  {
   "cell_type": "code",
   "execution_count": null,
   "id": "aa3cec04-2041-47ea-ae0b-6cc1818ddd67",
   "metadata": {},
   "outputs": [],
   "source": [
    "# Reshape\n",
    "x_train = x_train.reshape(60000, 784)\n",
    "x_test = x_test.reshape(10000, 784)"
   ]
  },
  {
   "cell_type": "markdown",
   "id": "2d3dbe2c",
   "metadata": {},
   "source": [
    "# Scaling between 0 and 1"
   ]
  },
  {
   "cell_type": "code",
   "execution_count": null,
   "id": "84b69362-e7e3-4333-9c4e-9bcccca71586",
   "metadata": {},
   "outputs": [],
   "source": [
    "x_train_sc = x_train / 255\n",
    "x_test_sc = x_test / 255"
   ]
  },
  {
   "cell_type": "markdown",
   "id": "d5a06114",
   "metadata": {},
   "source": [
    "# PCA\n",
    "We will use a 95% PCA"
   ]
  },
  {
   "cell_type": "code",
   "execution_count": null,
   "id": "22086097-e8e9-45a6-83bc-8f5ff1081761",
   "metadata": {},
   "outputs": [],
   "source": [
    "scaler = StandardScaler()\n",
    "pca = PCA(0.95)\n",
    "\n",
    "x_train_std = scaler.fit_transform(x_train)\n",
    "x_test_std = scaler.transform(x_test)\n",
    "\n",
    "x_train_pca = pca.fit_transform(x_train_std)\n",
    "x_test_pca = pca.transform(x_test_std)\n",
    "\n",
    "print(\"Original number of features:\", x_train_std.shape[0])\n",
    "print(\"Number of principal components:\", pca._ncomponents)\n",
    "print(\"Number of principal components:\", x_train_pca.shape[0])"
   ]
  },
  {
   "cell_type": "markdown",
   "id": "51688168",
   "metadata": {},
   "source": [
    "# Models\n",
    "We will use the hyperparameters obtained with the other notebooks"
   ]
  },
  {
   "cell_type": "code",
   "execution_count": 6,
   "id": "5dbfca41",
   "metadata": {},
   "outputs": [
    {
     "name": "stdout",
     "output_type": "stream",
     "text": [
      "KNN complete\n"
     ]
    }
   ],
   "source": [
    "knn = KNeighborsClassifier(n_neighbors=4, weights=\"distance\", n_jobs=-1).fit(x_train_sc, y_train)\n",
    "knn_pca = KNeighborsClassifier(n_neighbors=4, weights=\"distance\", n_jobs=-1).fit(x_train_pca, y_train)\n",
    "print(\"KNN complete\")"
   ]
  },
  {
   "cell_type": "code",
   "execution_count": 7,
   "id": "ec66ba8f",
   "metadata": {},
   "outputs": [
    {
     "name": "stdout",
     "output_type": "stream",
     "text": [
      "Random Forest complete\n"
     ]
    }
   ],
   "source": [
    "rf = RandomForestClassifier(criterion=\"gini\", max_features=\"sqrt\", random_state=25, n_jobs=-1).fit(x_train_sc, y_train)\n",
    "rf_pca = RandomForestClassifier(criterion=\"entropy\", max_features=\"sqrt\", random_state=25, n_jobs=-1).fit(x_train_pca, y_train)\n",
    "print(\"Random Forest complete\")"
   ]
  },
  {
   "cell_type": "code",
   "execution_count": 8,
   "id": "b3e7b64d",
   "metadata": {},
   "outputs": [
    {
     "name": "stdout",
     "output_type": "stream",
     "text": [
      "Logistic Regression complete\n"
     ]
    }
   ],
   "source": [
    "lr = LogisticRegression(penalty=\"l1\", solver=\"saga\", multi_class=\"multinomial\").fit(x_train_sc, y_train)\n",
    "lr_pca = LogisticRegression(penalty=\"l2\", solver=\"lbfgs\", multi_class=\"multinomial\").fit(x_train_pca, y_train)\n",
    "print(\"Logistic Regression complete\")"
   ]
  },
  {
   "cell_type": "code",
   "execution_count": 9,
   "id": "5aa3c60f",
   "metadata": {},
   "outputs": [],
   "source": [
    "models = {\n",
    "    \"knn\": knn,\n",
    "    \"knn_pca\": knn_pca,\n",
    "    \"lr\": lr,\n",
    "    \"lr_pca\": lr_pca,\n",
    "    \"rf\": rf,\n",
    "    \"rf_bw\": rf_bw,\n",
    "    \"rf_pca\": rf_pca,\n",
    "}"
   ]
  },
  {
   "cell_type": "code",
   "execution_count": 10,
   "id": "eaa01b2e",
   "metadata": {},
   "outputs": [],
   "source": [
    "if SAVE_MODELS:\n",
    "    # Save models with pickle\n",
    "    for key, m in models.items():\n",
    "        file_name = key + \".pkl\"\n",
    "        pickle.dump(m, open(file_name, \"wb\"))"
   ]
  },
  {
   "cell_type": "markdown",
   "id": "ff64c28a",
   "metadata": {},
   "source": [
    "# Predictions"
   ]
  },
  {
   "cell_type": "code",
   "execution_count": 12,
   "id": "5a3c03cf",
   "metadata": {},
   "outputs": [],
   "source": [
    "predictions = dict()\n",
    "predictions[\"groundtruth\"] = y_test\n",
    "for key in models.keys():\n",
    "    if \"_bw_pca\" in key:\n",
    "        predictions[key] = models[key].predict(X_test_bw_pca)\n",
    "    elif \"_pca\" in key:\n",
    "        predictions[key] = models[key].predict(X_test_pca)\n",
    "    elif \"_bw\" in key:\n",
    "        predictions[key] = models[key].predict(X_test_std_bw)\n",
    "    else:\n",
    "        predictions[key] = models[key].predict(X_test_std)"
   ]
  },
  {
   "cell_type": "code",
   "execution_count": 13,
   "id": "c2494fcf",
   "metadata": {},
   "outputs": [],
   "source": [
    "predictions_df = pd.DataFrame(predictions)"
   ]
  },
  {
   "cell_type": "code",
   "execution_count": 14,
   "id": "5589f75a",
   "metadata": {},
   "outputs": [
    {
     "data": {
      "text/html": [
       "<div>\n",
       "<style scoped>\n",
       "    .dataframe tbody tr th:only-of-type {\n",
       "        vertical-align: middle;\n",
       "    }\n",
       "\n",
       "    .dataframe tbody tr th {\n",
       "        vertical-align: top;\n",
       "    }\n",
       "\n",
       "    .dataframe thead th {\n",
       "        text-align: right;\n",
       "    }\n",
       "</style>\n",
       "<table border=\"1\" class=\"dataframe\">\n",
       "  <thead>\n",
       "    <tr style=\"text-align: right;\">\n",
       "      <th></th>\n",
       "      <th>groundtruth</th>\n",
       "      <th>knn</th>\n",
       "      <th>knn_bw</th>\n",
       "      <th>knn_pca</th>\n",
       "      <th>knn_bw_pca</th>\n",
       "      <th>lr</th>\n",
       "      <th>lr_bw</th>\n",
       "      <th>lr_pca</th>\n",
       "      <th>lr_bw_pca</th>\n",
       "      <th>rf</th>\n",
       "      <th>rf_bw</th>\n",
       "      <th>rf_pca</th>\n",
       "      <th>rf_bw_pca</th>\n",
       "    </tr>\n",
       "  </thead>\n",
       "  <tbody>\n",
       "    <tr>\n",
       "      <th>0</th>\n",
       "      <td>airplane</td>\n",
       "      <td>airplane</td>\n",
       "      <td>ship</td>\n",
       "      <td>airplane</td>\n",
       "      <td>airplane</td>\n",
       "      <td>airplane</td>\n",
       "      <td>ship</td>\n",
       "      <td>airplane</td>\n",
       "      <td>ship</td>\n",
       "      <td>ship</td>\n",
       "      <td>ship</td>\n",
       "      <td>airplane</td>\n",
       "      <td>ship</td>\n",
       "    </tr>\n",
       "    <tr>\n",
       "      <th>1</th>\n",
       "      <td>airplane</td>\n",
       "      <td>airplane</td>\n",
       "      <td>airplane</td>\n",
       "      <td>airplane</td>\n",
       "      <td>bird</td>\n",
       "      <td>ship</td>\n",
       "      <td>cat</td>\n",
       "      <td>ship</td>\n",
       "      <td>cat</td>\n",
       "      <td>ship</td>\n",
       "      <td>airplane</td>\n",
       "      <td>airplane</td>\n",
       "      <td>frog</td>\n",
       "    </tr>\n",
       "    <tr>\n",
       "      <th>2</th>\n",
       "      <td>airplane</td>\n",
       "      <td>airplane</td>\n",
       "      <td>airplane</td>\n",
       "      <td>airplane</td>\n",
       "      <td>airplane</td>\n",
       "      <td>airplane</td>\n",
       "      <td>airplane</td>\n",
       "      <td>airplane</td>\n",
       "      <td>airplane</td>\n",
       "      <td>airplane</td>\n",
       "      <td>airplane</td>\n",
       "      <td>bird</td>\n",
       "      <td>airplane</td>\n",
       "    </tr>\n",
       "    <tr>\n",
       "      <th>3</th>\n",
       "      <td>airplane</td>\n",
       "      <td>truck</td>\n",
       "      <td>ship</td>\n",
       "      <td>truck</td>\n",
       "      <td>ship</td>\n",
       "      <td>bird</td>\n",
       "      <td>airplane</td>\n",
       "      <td>bird</td>\n",
       "      <td>airplane</td>\n",
       "      <td>horse</td>\n",
       "      <td>horse</td>\n",
       "      <td>bird</td>\n",
       "      <td>truck</td>\n",
       "    </tr>\n",
       "    <tr>\n",
       "      <th>4</th>\n",
       "      <td>airplane</td>\n",
       "      <td>ship</td>\n",
       "      <td>ship</td>\n",
       "      <td>airplane</td>\n",
       "      <td>ship</td>\n",
       "      <td>airplane</td>\n",
       "      <td>cat</td>\n",
       "      <td>airplane</td>\n",
       "      <td>frog</td>\n",
       "      <td>airplane</td>\n",
       "      <td>bird</td>\n",
       "      <td>ship</td>\n",
       "      <td>deer</td>\n",
       "    </tr>\n",
       "    <tr>\n",
       "      <th>...</th>\n",
       "      <td>...</td>\n",
       "      <td>...</td>\n",
       "      <td>...</td>\n",
       "      <td>...</td>\n",
       "      <td>...</td>\n",
       "      <td>...</td>\n",
       "      <td>...</td>\n",
       "      <td>...</td>\n",
       "      <td>...</td>\n",
       "      <td>...</td>\n",
       "      <td>...</td>\n",
       "      <td>...</td>\n",
       "      <td>...</td>\n",
       "    </tr>\n",
       "    <tr>\n",
       "      <th>9995</th>\n",
       "      <td>truck</td>\n",
       "      <td>airplane</td>\n",
       "      <td>airplane</td>\n",
       "      <td>airplane</td>\n",
       "      <td>airplane</td>\n",
       "      <td>airplane</td>\n",
       "      <td>airplane</td>\n",
       "      <td>airplane</td>\n",
       "      <td>airplane</td>\n",
       "      <td>airplane</td>\n",
       "      <td>airplane</td>\n",
       "      <td>truck</td>\n",
       "      <td>airplane</td>\n",
       "    </tr>\n",
       "    <tr>\n",
       "      <th>9996</th>\n",
       "      <td>truck</td>\n",
       "      <td>ship</td>\n",
       "      <td>ship</td>\n",
       "      <td>ship</td>\n",
       "      <td>ship</td>\n",
       "      <td>truck</td>\n",
       "      <td>truck</td>\n",
       "      <td>truck</td>\n",
       "      <td>truck</td>\n",
       "      <td>ship</td>\n",
       "      <td>ship</td>\n",
       "      <td>truck</td>\n",
       "      <td>ship</td>\n",
       "    </tr>\n",
       "    <tr>\n",
       "      <th>9997</th>\n",
       "      <td>truck</td>\n",
       "      <td>truck</td>\n",
       "      <td>truck</td>\n",
       "      <td>truck</td>\n",
       "      <td>truck</td>\n",
       "      <td>truck</td>\n",
       "      <td>truck</td>\n",
       "      <td>truck</td>\n",
       "      <td>truck</td>\n",
       "      <td>truck</td>\n",
       "      <td>truck</td>\n",
       "      <td>truck</td>\n",
       "      <td>truck</td>\n",
       "    </tr>\n",
       "    <tr>\n",
       "      <th>9998</th>\n",
       "      <td>truck</td>\n",
       "      <td>frog</td>\n",
       "      <td>deer</td>\n",
       "      <td>frog</td>\n",
       "      <td>deer</td>\n",
       "      <td>automobile</td>\n",
       "      <td>automobile</td>\n",
       "      <td>automobile</td>\n",
       "      <td>automobile</td>\n",
       "      <td>truck</td>\n",
       "      <td>truck</td>\n",
       "      <td>automobile</td>\n",
       "      <td>automobile</td>\n",
       "    </tr>\n",
       "    <tr>\n",
       "      <th>9999</th>\n",
       "      <td>truck</td>\n",
       "      <td>airplane</td>\n",
       "      <td>airplane</td>\n",
       "      <td>airplane</td>\n",
       "      <td>ship</td>\n",
       "      <td>cat</td>\n",
       "      <td>truck</td>\n",
       "      <td>truck</td>\n",
       "      <td>truck</td>\n",
       "      <td>truck</td>\n",
       "      <td>truck</td>\n",
       "      <td>truck</td>\n",
       "      <td>truck</td>\n",
       "    </tr>\n",
       "  </tbody>\n",
       "</table>\n",
       "<p>10000 rows × 13 columns</p>\n",
       "</div>"
      ],
      "text/plain": [
       "     groundtruth       knn    knn_bw   knn_pca knn_bw_pca          lr  \\\n",
       "0       airplane  airplane      ship  airplane   airplane    airplane   \n",
       "1       airplane  airplane  airplane  airplane       bird        ship   \n",
       "2       airplane  airplane  airplane  airplane   airplane    airplane   \n",
       "3       airplane     truck      ship     truck       ship        bird   \n",
       "4       airplane      ship      ship  airplane       ship    airplane   \n",
       "...          ...       ...       ...       ...        ...         ...   \n",
       "9995       truck  airplane  airplane  airplane   airplane    airplane   \n",
       "9996       truck      ship      ship      ship       ship       truck   \n",
       "9997       truck     truck     truck     truck      truck       truck   \n",
       "9998       truck      frog      deer      frog       deer  automobile   \n",
       "9999       truck  airplane  airplane  airplane       ship         cat   \n",
       "\n",
       "           lr_bw      lr_pca   lr_bw_pca        rf     rf_bw      rf_pca  \\\n",
       "0           ship    airplane        ship      ship      ship    airplane   \n",
       "1            cat        ship         cat      ship  airplane    airplane   \n",
       "2       airplane    airplane    airplane  airplane  airplane        bird   \n",
       "3       airplane        bird    airplane     horse     horse        bird   \n",
       "4            cat    airplane        frog  airplane      bird        ship   \n",
       "...          ...         ...         ...       ...       ...         ...   \n",
       "9995    airplane    airplane    airplane  airplane  airplane       truck   \n",
       "9996       truck       truck       truck      ship      ship       truck   \n",
       "9997       truck       truck       truck     truck     truck       truck   \n",
       "9998  automobile  automobile  automobile     truck     truck  automobile   \n",
       "9999       truck       truck       truck     truck     truck       truck   \n",
       "\n",
       "       rf_bw_pca  \n",
       "0           ship  \n",
       "1           frog  \n",
       "2       airplane  \n",
       "3          truck  \n",
       "4           deer  \n",
       "...          ...  \n",
       "9995    airplane  \n",
       "9996        ship  \n",
       "9997       truck  \n",
       "9998  automobile  \n",
       "9999       truck  \n",
       "\n",
       "[10000 rows x 13 columns]"
      ]
     },
     "metadata": {},
     "output_type": "display_data"
    }
   ],
   "source": [
    "display(predictions_df)"
   ]
  },
  {
   "cell_type": "code",
   "execution_count": 15,
   "id": "ef5def72",
   "metadata": {},
   "outputs": [],
   "source": [
    "# Save DataFrame\n",
    "predictions_df.to_csv(\"predictions.csv\", index=False)"
   ]
  },
  {
   "cell_type": "code",
   "execution_count": null,
   "id": "1a01d626",
   "metadata": {},
   "outputs": [],
   "source": []
  }
 ],
 "metadata": {
  "kernelspec": {
   "display_name": "Python 3 (ipykernel)",
   "language": "python",
   "name": "python3"
  },
  "language_info": {
   "codemirror_mode": {
    "name": "ipython",
    "version": 3
   },
   "file_extension": ".py",
   "mimetype": "text/x-python",
   "name": "python",
   "nbconvert_exporter": "python",
   "pygments_lexer": "ipython3",
   "version": "3.10.13"
  }
 },
 "nbformat": 4,
 "nbformat_minor": 5
}
