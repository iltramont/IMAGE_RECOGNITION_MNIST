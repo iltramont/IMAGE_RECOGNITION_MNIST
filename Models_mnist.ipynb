{
 "cells": [
  {
   "cell_type": "markdown",
   "id": "2b04cade-147c-4710-871c-45f16afc7b93",
   "metadata": {},
   "source": [
    "# Models\n",
    "In this notebook we will build models with the hyperparameters obtained in the other notebooks."
   ]
  },
  {
   "cell_type": "code",
   "execution_count": 1,
   "id": "1cc421e6",
   "metadata": {},
   "outputs": [
    {
     "name": "stdout",
     "output_type": "stream",
     "text": [
      "WARNING:tensorflow:From C:\\Users\\lucat\\anaconda3\\envs\\AI_LAB\\lib\\site-packages\\keras\\src\\losses.py:2976: The name tf.losses.sparse_softmax_cross_entropy is deprecated. Please use tf.compat.v1.losses.sparse_softmax_cross_entropy instead.\n",
      "\n"
     ]
    }
   ],
   "source": [
    "import numpy as np\n",
    "import pandas as pd\n",
    "import pickle\n",
    "import warnings\n",
    "import time\n",
    "\n",
    "from sklearn.preprocessing import StandardScaler\n",
    "from sklearn.decomposition import PCA\n",
    "\n",
    "from sklearn.neighbors import KNeighborsClassifier\n",
    "from sklearn.linear_model import LogisticRegression\n",
    "from sklearn.ensemble import RandomForestClassifier\n",
    "from sklearn.utils import resample\n",
    "\n",
    "from tensorflow.keras.datasets import mnist\n",
    "\n",
    "warnings.filterwarnings('ignore')\n",
    "\n",
    "SAVE_MODELS = False"
   ]
  },
  {
   "cell_type": "markdown",
   "id": "4363b836",
   "metadata": {},
   "source": [
    "## Load data"
   ]
  },
  {
   "cell_type": "code",
   "execution_count": 2,
   "id": "b9677751",
   "metadata": {},
   "outputs": [
    {
     "name": "stdout",
     "output_type": "stream",
     "text": [
      "x_train shape: (60000, 28, 28)\n",
      "x_test shape: (10000, 28, 28)\n",
      "y_train shape: (60000,)\n",
      "y_test shape: (10000,)\n"
     ]
    }
   ],
   "source": [
    "(x_train, y_train), (x_test, y_test) = mnist.load_data()\n",
    "\n",
    "print(\"x_train shape:\", x_train.shape)\n",
    "print(\"x_test shape:\", x_test.shape)\n",
    "print(\"y_train shape:\", y_train.shape)\n",
    "print(\"y_test shape:\", y_test.shape)"
   ]
  },
  {
   "cell_type": "markdown",
   "id": "ea813e90-2392-4976-ba1e-a341c516db23",
   "metadata": {},
   "source": [
    "## Reshape data"
   ]
  },
  {
   "cell_type": "code",
   "execution_count": 3,
   "id": "aa3cec04-2041-47ea-ae0b-6cc1818ddd67",
   "metadata": {},
   "outputs": [],
   "source": [
    "# Reshape\n",
    "x_train = x_train.reshape(60000, 784)\n",
    "x_test = x_test.reshape(10000, 784)"
   ]
  },
  {
   "cell_type": "markdown",
   "id": "2d3dbe2c",
   "metadata": {},
   "source": [
    "## Scaling between 0 and 1"
   ]
  },
  {
   "cell_type": "code",
   "execution_count": 4,
   "id": "84b69362-e7e3-4333-9c4e-9bcccca71586",
   "metadata": {},
   "outputs": [],
   "source": [
    "x_train_sc = x_train / 255\n",
    "x_test_sc = x_test / 255"
   ]
  },
  {
   "cell_type": "markdown",
   "id": "d5a06114",
   "metadata": {},
   "source": [
    "## PCA\n",
    "We will use a 95% PCA."
   ]
  },
  {
   "cell_type": "code",
   "execution_count": 5,
   "id": "22086097-e8e9-45a6-83bc-8f5ff1081761",
   "metadata": {},
   "outputs": [
    {
     "name": "stdout",
     "output_type": "stream",
     "text": [
      "Original number of features: 784\n",
      "Number of principal components: 331\n"
     ]
    }
   ],
   "source": [
    "scaler = StandardScaler()\n",
    "pca = PCA(0.95)\n",
    "\n",
    "x_train_std = scaler.fit_transform(x_train)\n",
    "x_test_std = scaler.transform(x_test)\n",
    "\n",
    "x_train_pca = pca.fit_transform(x_train_std)\n",
    "x_test_pca = pca.transform(x_test_std)\n",
    "\n",
    "print(\"Original number of features:\", x_train_std.shape[1])\n",
    "print(\"Number of principal components:\", pca.n_components_)"
   ]
  },
  {
   "cell_type": "markdown",
   "id": "51688168",
   "metadata": {},
   "source": [
    "## Train models"
   ]
  },
  {
   "cell_type": "code",
   "execution_count": 6,
   "id": "5dbfca41",
   "metadata": {},
   "outputs": [
    {
     "name": "stdout",
     "output_type": "stream",
     "text": [
      "KNN complete\n"
     ]
    }
   ],
   "source": [
    "knn = KNeighborsClassifier(n_neighbors=4, weights=\"distance\", n_jobs=-1).fit(x_train_sc, y_train)\n",
    "knn_pca = KNeighborsClassifier(n_neighbors=4, weights=\"distance\", n_jobs=-1).fit(x_train_pca, y_train)\n",
    "print(\"KNN complete\")"
   ]
  },
  {
   "cell_type": "code",
   "execution_count": 7,
   "id": "ec66ba8f",
   "metadata": {},
   "outputs": [
    {
     "name": "stdout",
     "output_type": "stream",
     "text": [
      "Random Forest complete\n"
     ]
    }
   ],
   "source": [
    "rf = RandomForestClassifier(criterion=\"gini\", max_features=\"sqrt\", random_state=25, n_jobs=-1).fit(x_train_sc, y_train)\n",
    "rf_pca = RandomForestClassifier(criterion=\"entropy\", max_features=\"sqrt\", random_state=25, n_jobs=-1).fit(x_train_pca, y_train)\n",
    "print(\"Random Forest complete\")"
   ]
  },
  {
   "cell_type": "code",
   "execution_count": 8,
   "id": "b3e7b64d",
   "metadata": {},
   "outputs": [
    {
     "name": "stdout",
     "output_type": "stream",
     "text": [
      "Logistic Regression complete\n"
     ]
    }
   ],
   "source": [
    "lr = LogisticRegression(penalty=\"l1\", solver=\"saga\", multi_class=\"multinomial\").fit(x_train_sc, y_train)\n",
    "lr_pca = LogisticRegression(penalty=\"l2\", solver=\"lbfgs\", multi_class=\"multinomial\").fit(x_train_pca, y_train)\n",
    "print(\"Logistic Regression complete\")"
   ]
  },
  {
   "cell_type": "code",
   "execution_count": 9,
   "id": "5aa3c60f",
   "metadata": {},
   "outputs": [],
   "source": [
    "models = {\n",
    "    \"knn\": knn,\n",
    "    \"knn_pca\": knn_pca,\n",
    "    \"lr\": lr,\n",
    "    \"lr_pca\": lr_pca,\n",
    "    \"rf\": rf,\n",
    "    \"rf_pca\": rf_pca,\n",
    "}"
   ]
  },
  {
   "cell_type": "code",
   "execution_count": 10,
   "id": "eaa01b2e",
   "metadata": {},
   "outputs": [],
   "source": [
    "if SAVE_MODELS:\n",
    "    # Save models with pickle\n",
    "    for key, m in models.items():\n",
    "        file_name = key + \".pkl\"\n",
    "        pickle.dump(m, open(file_name, \"wb\"))"
   ]
  },
  {
   "cell_type": "markdown",
   "id": "ff64c28a",
   "metadata": {},
   "source": [
    "## Predictions"
   ]
  },
  {
   "cell_type": "code",
   "execution_count": 11,
   "id": "5a3c03cf",
   "metadata": {},
   "outputs": [],
   "source": [
    "predictions = dict()\n",
    "predictions[\"groundtruth\"] = y_test\n",
    "for key in models.keys():\n",
    "    if \"_pca\" in key:\n",
    "        predictions[key] = models[key].predict(x_test_pca)\n",
    "    else:\n",
    "        predictions[key] = models[key].predict(x_test_sc)"
   ]
  },
  {
   "cell_type": "code",
   "execution_count": 12,
   "id": "c2494fcf",
   "metadata": {},
   "outputs": [
    {
     "data": {
      "text/html": [
       "<div>\n",
       "<style scoped>\n",
       "    .dataframe tbody tr th:only-of-type {\n",
       "        vertical-align: middle;\n",
       "    }\n",
       "\n",
       "    .dataframe tbody tr th {\n",
       "        vertical-align: top;\n",
       "    }\n",
       "\n",
       "    .dataframe thead th {\n",
       "        text-align: right;\n",
       "    }\n",
       "</style>\n",
       "<table border=\"1\" class=\"dataframe\">\n",
       "  <thead>\n",
       "    <tr style=\"text-align: right;\">\n",
       "      <th></th>\n",
       "      <th>groundtruth</th>\n",
       "      <th>knn</th>\n",
       "      <th>knn_pca</th>\n",
       "      <th>lr</th>\n",
       "      <th>lr_pca</th>\n",
       "      <th>rf</th>\n",
       "      <th>rf_pca</th>\n",
       "    </tr>\n",
       "  </thead>\n",
       "  <tbody>\n",
       "    <tr>\n",
       "      <th>0</th>\n",
       "      <td>7</td>\n",
       "      <td>7</td>\n",
       "      <td>7</td>\n",
       "      <td>7</td>\n",
       "      <td>7</td>\n",
       "      <td>7</td>\n",
       "      <td>7</td>\n",
       "    </tr>\n",
       "    <tr>\n",
       "      <th>1</th>\n",
       "      <td>2</td>\n",
       "      <td>2</td>\n",
       "      <td>2</td>\n",
       "      <td>2</td>\n",
       "      <td>2</td>\n",
       "      <td>2</td>\n",
       "      <td>2</td>\n",
       "    </tr>\n",
       "    <tr>\n",
       "      <th>2</th>\n",
       "      <td>1</td>\n",
       "      <td>1</td>\n",
       "      <td>1</td>\n",
       "      <td>1</td>\n",
       "      <td>1</td>\n",
       "      <td>1</td>\n",
       "      <td>1</td>\n",
       "    </tr>\n",
       "    <tr>\n",
       "      <th>3</th>\n",
       "      <td>0</td>\n",
       "      <td>0</td>\n",
       "      <td>0</td>\n",
       "      <td>0</td>\n",
       "      <td>0</td>\n",
       "      <td>0</td>\n",
       "      <td>0</td>\n",
       "    </tr>\n",
       "    <tr>\n",
       "      <th>4</th>\n",
       "      <td>4</td>\n",
       "      <td>4</td>\n",
       "      <td>4</td>\n",
       "      <td>4</td>\n",
       "      <td>4</td>\n",
       "      <td>4</td>\n",
       "      <td>4</td>\n",
       "    </tr>\n",
       "    <tr>\n",
       "      <th>...</th>\n",
       "      <td>...</td>\n",
       "      <td>...</td>\n",
       "      <td>...</td>\n",
       "      <td>...</td>\n",
       "      <td>...</td>\n",
       "      <td>...</td>\n",
       "      <td>...</td>\n",
       "    </tr>\n",
       "    <tr>\n",
       "      <th>9995</th>\n",
       "      <td>2</td>\n",
       "      <td>2</td>\n",
       "      <td>2</td>\n",
       "      <td>2</td>\n",
       "      <td>2</td>\n",
       "      <td>2</td>\n",
       "      <td>2</td>\n",
       "    </tr>\n",
       "    <tr>\n",
       "      <th>9996</th>\n",
       "      <td>3</td>\n",
       "      <td>3</td>\n",
       "      <td>3</td>\n",
       "      <td>3</td>\n",
       "      <td>3</td>\n",
       "      <td>3</td>\n",
       "      <td>3</td>\n",
       "    </tr>\n",
       "    <tr>\n",
       "      <th>9997</th>\n",
       "      <td>4</td>\n",
       "      <td>4</td>\n",
       "      <td>4</td>\n",
       "      <td>4</td>\n",
       "      <td>4</td>\n",
       "      <td>4</td>\n",
       "      <td>4</td>\n",
       "    </tr>\n",
       "    <tr>\n",
       "      <th>9998</th>\n",
       "      <td>5</td>\n",
       "      <td>5</td>\n",
       "      <td>5</td>\n",
       "      <td>5</td>\n",
       "      <td>5</td>\n",
       "      <td>5</td>\n",
       "      <td>5</td>\n",
       "    </tr>\n",
       "    <tr>\n",
       "      <th>9999</th>\n",
       "      <td>6</td>\n",
       "      <td>6</td>\n",
       "      <td>6</td>\n",
       "      <td>6</td>\n",
       "      <td>6</td>\n",
       "      <td>6</td>\n",
       "      <td>6</td>\n",
       "    </tr>\n",
       "  </tbody>\n",
       "</table>\n",
       "<p>10000 rows × 7 columns</p>\n",
       "</div>"
      ],
      "text/plain": [
       "      groundtruth  knn  knn_pca  lr  lr_pca  rf  rf_pca\n",
       "0               7    7        7   7       7   7       7\n",
       "1               2    2        2   2       2   2       2\n",
       "2               1    1        1   1       1   1       1\n",
       "3               0    0        0   0       0   0       0\n",
       "4               4    4        4   4       4   4       4\n",
       "...           ...  ...      ...  ..     ...  ..     ...\n",
       "9995            2    2        2   2       2   2       2\n",
       "9996            3    3        3   3       3   3       3\n",
       "9997            4    4        4   4       4   4       4\n",
       "9998            5    5        5   5       5   5       5\n",
       "9999            6    6        6   6       6   6       6\n",
       "\n",
       "[10000 rows x 7 columns]"
      ]
     },
     "metadata": {},
     "output_type": "display_data"
    }
   ],
   "source": [
    "predictions_df = pd.DataFrame(predictions)\n",
    "display(predictions_df)"
   ]
  },
  {
   "cell_type": "markdown",
   "id": "44498272-bc0e-4dbf-8d5c-ec123c2c231f",
   "metadata": {},
   "source": [
    "## Save predictions with csv file"
   ]
  },
  {
   "cell_type": "code",
   "execution_count": 13,
   "id": "ef5def72",
   "metadata": {},
   "outputs": [],
   "source": [
    "# Save DataFrame\n",
    "predictions_df.to_csv(\"predictions_mnist.csv\", index=False)"
   ]
  },
  {
   "cell_type": "code",
   "execution_count": 14,
   "id": "a76a093f-42eb-4abd-a602-ef892162062d",
   "metadata": {},
   "outputs": [
    {
     "name": "stdout",
     "output_type": "stream",
     "text": [
      "x_train shape: (60000, 28, 28)\n",
      "x_test shape: (10000, 28, 28)\n",
      "y_train shape: (60000,)\n",
      "y_test shape: (10000,)\n"
     ]
    }
   ],
   "source": [
    "(x_train, y_train), (x_test, y_test) = mnist.load_data()\n",
    "\n",
    "print(\"x_train shape:\", x_train.shape)\n",
    "print(\"x_test shape:\", x_test.shape)\n",
    "print(\"y_train shape:\", y_train.shape)\n",
    "print(\"y_test shape:\", y_test.shape)"
   ]
  },
  {
   "cell_type": "code",
   "execution_count": 15,
   "id": "230934d7-b882-43e9-bc0a-335930bf743a",
   "metadata": {},
   "outputs": [],
   "source": [
    "def predict_from_image(image, mod, use_pca=False, scaler=scaler, pca=pca):\n",
    "    im = image.reshape(1, -1)\n",
    "    if use_pca:\n",
    "        im = scaler.transform(im)\n",
    "        im = pca.transform(im)\n",
    "        return mod.predict(im)\n",
    "    else:\n",
    "        im = im / 255\n",
    "        return mod.predict(im)        "
   ]
  },
  {
   "cell_type": "code",
   "execution_count": 16,
   "id": "d65dc111-cf85-4d1b-b853-2ce41a135f25",
   "metadata": {},
   "outputs": [
    {
     "name": "stdout",
     "output_type": "stream",
     "text": [
      "Iteration 1 complete\n",
      "Iteration 2 complete\n",
      "Iteration 3 complete\n",
      "Iteration 4 complete\n",
      "Iteration 5 complete\n",
      "Iteration 6 complete\n",
      "Iteration 7 complete\n",
      "Iteration 8 complete\n",
      "Iteration 9 complete\n",
      "Iteration 10 complete\n",
      "Iteration 11 complete\n",
      "Iteration 12 complete\n",
      "Iteration 13 complete\n",
      "Iteration 14 complete\n",
      "Iteration 15 complete\n",
      "Iteration 16 complete\n",
      "Iteration 17 complete\n",
      "Iteration 18 complete\n",
      "Iteration 19 complete\n",
      "Iteration 20 complete\n",
      "Iteration 21 complete\n",
      "Iteration 22 complete\n",
      "Iteration 23 complete\n",
      "Iteration 24 complete\n",
      "Iteration 25 complete\n",
      "Iteration 26 complete\n",
      "Iteration 27 complete\n",
      "Iteration 28 complete\n",
      "Iteration 29 complete\n",
      "Iteration 30 complete\n",
      "Iteration 31 complete\n",
      "Iteration 32 complete\n",
      "Iteration 33 complete\n",
      "Iteration 34 complete\n",
      "Iteration 35 complete\n",
      "Iteration 36 complete\n",
      "Iteration 37 complete\n",
      "Iteration 38 complete\n",
      "Iteration 39 complete\n",
      "Iteration 40 complete\n",
      "Iteration 41 complete\n",
      "Iteration 42 complete\n",
      "Iteration 43 complete\n",
      "Iteration 44 complete\n",
      "Iteration 45 complete\n",
      "Iteration 46 complete\n",
      "Iteration 47 complete\n",
      "Iteration 48 complete\n",
      "Iteration 49 complete\n",
      "Iteration 50 complete\n",
      "Iteration 51 complete\n",
      "Iteration 52 complete\n",
      "Iteration 53 complete\n",
      "Iteration 54 complete\n",
      "Iteration 55 complete\n",
      "Iteration 56 complete\n",
      "Iteration 57 complete\n",
      "Iteration 58 complete\n",
      "Iteration 59 complete\n",
      "Iteration 60 complete\n",
      "Iteration 61 complete\n",
      "Iteration 62 complete\n",
      "Iteration 63 complete\n",
      "Iteration 64 complete\n",
      "Iteration 65 complete\n",
      "Iteration 66 complete\n",
      "Iteration 67 complete\n",
      "Iteration 68 complete\n",
      "Iteration 69 complete\n",
      "Iteration 70 complete\n",
      "Iteration 71 complete\n",
      "Iteration 72 complete\n",
      "Iteration 73 complete\n",
      "Iteration 74 complete\n",
      "Iteration 75 complete\n",
      "Iteration 76 complete\n",
      "Iteration 77 complete\n",
      "Iteration 78 complete\n",
      "Iteration 79 complete\n",
      "Iteration 80 complete\n",
      "Iteration 81 complete\n",
      "Iteration 82 complete\n",
      "Iteration 83 complete\n",
      "Iteration 84 complete\n",
      "Iteration 85 complete\n",
      "Iteration 86 complete\n",
      "Iteration 87 complete\n",
      "Iteration 88 complete\n",
      "Iteration 89 complete\n",
      "Iteration 90 complete\n",
      "Iteration 91 complete\n",
      "Iteration 92 complete\n",
      "Iteration 93 complete\n",
      "Iteration 94 complete\n",
      "Iteration 95 complete\n",
      "Iteration 96 complete\n",
      "Iteration 97 complete\n",
      "Iteration 98 complete\n",
      "Iteration 99 complete\n",
      "Iteration 100 complete\n"
     ]
    }
   ],
   "source": [
    "time_dict = dict()\n",
    "for model_name in models.keys():\n",
    "    time_dict[model_name] = []\n",
    "\n",
    "n_iterations = 100\n",
    "n_samples = 100\n",
    "for it in range(n_iterations):\n",
    "    sample = resample(x_test, n_samples=n_samples)\n",
    "    \n",
    "    for model_name in models.keys():\n",
    "        mod = models[model_name]\n",
    "        use_pca = False\n",
    "        if \"_pca\" in model_name:\n",
    "            use_pca = True\n",
    "\n",
    "        # Make predictions\n",
    "        t0 = time.time()\n",
    "        for im in sample:\n",
    "            predict_from_image(im, mod, use_pca=use_pca)\n",
    "        t1 = time.time()\n",
    "        \n",
    "        elapsed_time = t1 - t0\n",
    "        time_dict[model_name].append(elapsed_time)\n",
    "    print(\"Iteration {} complete\".format(it + 1))"
   ]
  },
  {
   "cell_type": "code",
   "execution_count": 17,
   "id": "05718c07-228e-495c-a728-7ac987232c13",
   "metadata": {},
   "outputs": [
    {
     "data": {
      "text/html": [
       "<div>\n",
       "<style scoped>\n",
       "    .dataframe tbody tr th:only-of-type {\n",
       "        vertical-align: middle;\n",
       "    }\n",
       "\n",
       "    .dataframe tbody tr th {\n",
       "        vertical-align: top;\n",
       "    }\n",
       "\n",
       "    .dataframe thead th {\n",
       "        text-align: right;\n",
       "    }\n",
       "</style>\n",
       "<table border=\"1\" class=\"dataframe\">\n",
       "  <thead>\n",
       "    <tr style=\"text-align: right;\">\n",
       "      <th></th>\n",
       "      <th>knn</th>\n",
       "      <th>knn_pca</th>\n",
       "      <th>lr</th>\n",
       "      <th>lr_pca</th>\n",
       "      <th>rf</th>\n",
       "      <th>rf_pca</th>\n",
       "    </tr>\n",
       "  </thead>\n",
       "  <tbody>\n",
       "    <tr>\n",
       "      <th>sample 1</th>\n",
       "      <td>2.783082</td>\n",
       "      <td>1.382622</td>\n",
       "      <td>0.018133</td>\n",
       "      <td>0.123507</td>\n",
       "      <td>4.644084</td>\n",
       "      <td>4.673895</td>\n",
       "    </tr>\n",
       "    <tr>\n",
       "      <th>sample 2</th>\n",
       "      <td>2.811573</td>\n",
       "      <td>1.445557</td>\n",
       "      <td>0.015620</td>\n",
       "      <td>0.063009</td>\n",
       "      <td>4.551475</td>\n",
       "      <td>4.708474</td>\n",
       "    </tr>\n",
       "    <tr>\n",
       "      <th>sample 3</th>\n",
       "      <td>2.764334</td>\n",
       "      <td>1.480147</td>\n",
       "      <td>0.031262</td>\n",
       "      <td>0.062979</td>\n",
       "      <td>4.280191</td>\n",
       "      <td>4.756178</td>\n",
       "    </tr>\n",
       "    <tr>\n",
       "      <th>sample 4</th>\n",
       "      <td>2.749163</td>\n",
       "      <td>1.399418</td>\n",
       "      <td>0.015619</td>\n",
       "      <td>0.063238</td>\n",
       "      <td>4.673317</td>\n",
       "      <td>4.757974</td>\n",
       "    </tr>\n",
       "    <tr>\n",
       "      <th>sample 5</th>\n",
       "      <td>2.810524</td>\n",
       "      <td>1.397744</td>\n",
       "      <td>0.027563</td>\n",
       "      <td>0.066532</td>\n",
       "      <td>4.660843</td>\n",
       "      <td>4.689234</td>\n",
       "    </tr>\n",
       "    <tr>\n",
       "      <th>...</th>\n",
       "      <td>...</td>\n",
       "      <td>...</td>\n",
       "      <td>...</td>\n",
       "      <td>...</td>\n",
       "      <td>...</td>\n",
       "      <td>...</td>\n",
       "    </tr>\n",
       "    <tr>\n",
       "      <th>sample 96</th>\n",
       "      <td>2.813272</td>\n",
       "      <td>1.603994</td>\n",
       "      <td>0.012527</td>\n",
       "      <td>0.062515</td>\n",
       "      <td>4.518001</td>\n",
       "      <td>4.452278</td>\n",
       "    </tr>\n",
       "    <tr>\n",
       "      <th>sample 97</th>\n",
       "      <td>2.625368</td>\n",
       "      <td>1.366662</td>\n",
       "      <td>0.015637</td>\n",
       "      <td>0.074013</td>\n",
       "      <td>4.601452</td>\n",
       "      <td>4.140303</td>\n",
       "    </tr>\n",
       "    <tr>\n",
       "      <th>sample 98</th>\n",
       "      <td>2.764961</td>\n",
       "      <td>1.298680</td>\n",
       "      <td>0.006514</td>\n",
       "      <td>0.063061</td>\n",
       "      <td>4.207790</td>\n",
       "      <td>4.597936</td>\n",
       "    </tr>\n",
       "    <tr>\n",
       "      <th>sample 99</th>\n",
       "      <td>2.763372</td>\n",
       "      <td>1.428569</td>\n",
       "      <td>0.015604</td>\n",
       "      <td>0.078522</td>\n",
       "      <td>4.723933</td>\n",
       "      <td>4.581455</td>\n",
       "    </tr>\n",
       "    <tr>\n",
       "      <th>sample 100</th>\n",
       "      <td>2.767289</td>\n",
       "      <td>1.492970</td>\n",
       "      <td>0.015659</td>\n",
       "      <td>0.062901</td>\n",
       "      <td>4.564783</td>\n",
       "      <td>4.626619</td>\n",
       "    </tr>\n",
       "  </tbody>\n",
       "</table>\n",
       "<p>100 rows × 6 columns</p>\n",
       "</div>"
      ],
      "text/plain": [
       "                 knn   knn_pca        lr    lr_pca        rf    rf_pca\n",
       "sample 1    2.783082  1.382622  0.018133  0.123507  4.644084  4.673895\n",
       "sample 2    2.811573  1.445557  0.015620  0.063009  4.551475  4.708474\n",
       "sample 3    2.764334  1.480147  0.031262  0.062979  4.280191  4.756178\n",
       "sample 4    2.749163  1.399418  0.015619  0.063238  4.673317  4.757974\n",
       "sample 5    2.810524  1.397744  0.027563  0.066532  4.660843  4.689234\n",
       "...              ...       ...       ...       ...       ...       ...\n",
       "sample 96   2.813272  1.603994  0.012527  0.062515  4.518001  4.452278\n",
       "sample 97   2.625368  1.366662  0.015637  0.074013  4.601452  4.140303\n",
       "sample 98   2.764961  1.298680  0.006514  0.063061  4.207790  4.597936\n",
       "sample 99   2.763372  1.428569  0.015604  0.078522  4.723933  4.581455\n",
       "sample 100  2.767289  1.492970  0.015659  0.062901  4.564783  4.626619\n",
       "\n",
       "[100 rows x 6 columns]"
      ]
     },
     "metadata": {},
     "output_type": "display_data"
    }
   ],
   "source": [
    "time_df = pd.DataFrame(time_dict, index=[\"sample {}\".format(i+1) for i in range(n_iterations)])\n",
    "display(time_df)"
   ]
  },
  {
   "cell_type": "code",
   "execution_count": 18,
   "id": "5b47ad29-c376-461a-8a19-3307bdd9089d",
   "metadata": {},
   "outputs": [
    {
     "data": {
      "text/html": [
       "<div>\n",
       "<style scoped>\n",
       "    .dataframe tbody tr th:only-of-type {\n",
       "        vertical-align: middle;\n",
       "    }\n",
       "\n",
       "    .dataframe tbody tr th {\n",
       "        vertical-align: top;\n",
       "    }\n",
       "\n",
       "    .dataframe thead th {\n",
       "        text-align: right;\n",
       "    }\n",
       "</style>\n",
       "<table border=\"1\" class=\"dataframe\">\n",
       "  <thead>\n",
       "    <tr style=\"text-align: right;\">\n",
       "      <th></th>\n",
       "      <th>knn</th>\n",
       "      <th>knn_pca</th>\n",
       "      <th>lr</th>\n",
       "      <th>lr_pca</th>\n",
       "      <th>rf</th>\n",
       "      <th>rf_pca</th>\n",
       "    </tr>\n",
       "  </thead>\n",
       "  <tbody>\n",
       "    <tr>\n",
       "      <th>count</th>\n",
       "      <td>100.000000</td>\n",
       "      <td>100.000000</td>\n",
       "      <td>100.000000</td>\n",
       "      <td>100.000000</td>\n",
       "      <td>100.000000</td>\n",
       "      <td>100.000000</td>\n",
       "    </tr>\n",
       "    <tr>\n",
       "      <th>mean</th>\n",
       "      <td>2.778346</td>\n",
       "      <td>1.446664</td>\n",
       "      <td>0.018084</td>\n",
       "      <td>0.081491</td>\n",
       "      <td>4.560799</td>\n",
       "      <td>4.626379</td>\n",
       "    </tr>\n",
       "    <tr>\n",
       "      <th>std</th>\n",
       "      <td>0.070370</td>\n",
       "      <td>0.130418</td>\n",
       "      <td>0.009734</td>\n",
       "      <td>0.022013</td>\n",
       "      <td>0.126534</td>\n",
       "      <td>0.166163</td>\n",
       "    </tr>\n",
       "    <tr>\n",
       "      <th>min</th>\n",
       "      <td>2.319769</td>\n",
       "      <td>1.170615</td>\n",
       "      <td>0.000000</td>\n",
       "      <td>0.046883</td>\n",
       "      <td>4.062191</td>\n",
       "      <td>3.689269</td>\n",
       "    </tr>\n",
       "    <tr>\n",
       "      <th>25%</th>\n",
       "      <td>2.753304</td>\n",
       "      <td>1.362557</td>\n",
       "      <td>0.015615</td>\n",
       "      <td>0.062893</td>\n",
       "      <td>4.521854</td>\n",
       "      <td>4.599152</td>\n",
       "    </tr>\n",
       "    <tr>\n",
       "      <th>50%</th>\n",
       "      <td>2.780370</td>\n",
       "      <td>1.426738</td>\n",
       "      <td>0.015642</td>\n",
       "      <td>0.078521</td>\n",
       "      <td>4.586543</td>\n",
       "      <td>4.661839</td>\n",
       "    </tr>\n",
       "    <tr>\n",
       "      <th>75%</th>\n",
       "      <td>2.810606</td>\n",
       "      <td>1.544237</td>\n",
       "      <td>0.027492</td>\n",
       "      <td>0.095410</td>\n",
       "      <td>4.628301</td>\n",
       "      <td>4.706928</td>\n",
       "    </tr>\n",
       "    <tr>\n",
       "      <th>max</th>\n",
       "      <td>2.939507</td>\n",
       "      <td>1.806010</td>\n",
       "      <td>0.043232</td>\n",
       "      <td>0.125650</td>\n",
       "      <td>4.867960</td>\n",
       "      <td>4.926862</td>\n",
       "    </tr>\n",
       "  </tbody>\n",
       "</table>\n",
       "</div>"
      ],
      "text/plain": [
       "              knn     knn_pca          lr      lr_pca          rf      rf_pca\n",
       "count  100.000000  100.000000  100.000000  100.000000  100.000000  100.000000\n",
       "mean     2.778346    1.446664    0.018084    0.081491    4.560799    4.626379\n",
       "std      0.070370    0.130418    0.009734    0.022013    0.126534    0.166163\n",
       "min      2.319769    1.170615    0.000000    0.046883    4.062191    3.689269\n",
       "25%      2.753304    1.362557    0.015615    0.062893    4.521854    4.599152\n",
       "50%      2.780370    1.426738    0.015642    0.078521    4.586543    4.661839\n",
       "75%      2.810606    1.544237    0.027492    0.095410    4.628301    4.706928\n",
       "max      2.939507    1.806010    0.043232    0.125650    4.867960    4.926862"
      ]
     },
     "metadata": {},
     "output_type": "display_data"
    }
   ],
   "source": [
    "display(time_df.describe())"
   ]
  },
  {
   "cell_type": "code",
   "execution_count": 19,
   "id": "59a56526-da65-4962-967a-683df251bb64",
   "metadata": {},
   "outputs": [],
   "source": [
    "time_df.to_csv(\"time_mnist.csv\", index=True)"
   ]
  },
  {
   "cell_type": "code",
   "execution_count": null,
   "id": "27da4ddc-251c-4954-ba02-c5083bb16097",
   "metadata": {},
   "outputs": [],
   "source": []
  }
 ],
 "metadata": {
  "kernelspec": {
   "display_name": "Python 3 (ipykernel)",
   "language": "python",
   "name": "python3"
  },
  "language_info": {
   "codemirror_mode": {
    "name": "ipython",
    "version": 3
   },
   "file_extension": ".py",
   "mimetype": "text/x-python",
   "name": "python",
   "nbconvert_exporter": "python",
   "pygments_lexer": "ipython3",
   "version": "3.10.13"
  }
 },
 "nbformat": 4,
 "nbformat_minor": 5
}
