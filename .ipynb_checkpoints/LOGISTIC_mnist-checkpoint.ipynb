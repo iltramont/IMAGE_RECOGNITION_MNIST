{
 "cells": [
  {
   "cell_type": "code",
   "execution_count": 1,
   "id": "6235316b-9f19-4156-9995-9dd3eb15128d",
   "metadata": {},
   "outputs": [
    {
     "name": "stdout",
     "output_type": "stream",
     "text": [
      "WARNING:tensorflow:From C:\\Users\\lucat\\anaconda3\\envs\\AI_LAB\\lib\\site-packages\\keras\\src\\losses.py:2976: The name tf.losses.sparse_softmax_cross_entropy is deprecated. Please use tf.compat.v1.losses.sparse_softmax_cross_entropy instead.\n",
      "\n"
     ]
    }
   ],
   "source": [
    "import numpy as np\n",
    "import pandas as pd\n",
    "import seaborn as sns\n",
    "import matplotlib.pyplot as plt\n",
    "#import pickle\n",
    "\n",
    "from tensorflow.keras.datasets import mnist\n",
    "\n",
    "from sklearn.linear_model import LogisticRegression\n",
    "\n",
    "from sklearn.utils import shuffle\n",
    "from sklearn.preprocessing import StandardScaler\n",
    "from sklearn.model_selection import train_test_split, GridSearchCV\n",
    "from sklearn.pipeline import Pipeline\n",
    "\n",
    "from sklearn.metrics import accuracy_score, f1_score, precision_score, recall_score, make_scorer\n",
    "from sklearn.metrics import ConfusionMatrixDisplay\n",
    "\n",
    "from sklearn.decomposition import PCA"
   ]
  },
  {
   "cell_type": "markdown",
   "id": "326c09fa-a7fb-4b4d-883f-63f86963999e",
   "metadata": {},
   "source": [
    "# Scale data and flat images\n",
    "\n",
    "As our data represents gray-scale images, we will scale data between 0 and 1.\n",
    "\n",
    "We will flat images in one dimensional array."
   ]
  },
  {
   "cell_type": "code",
   "execution_count": 2,
   "id": "dc687431-7b62-4c1c-8c1b-03bc2f0872d7",
   "metadata": {},
   "outputs": [
    {
     "name": "stdout",
     "output_type": "stream",
     "text": [
      "x_train shape: (60000, 28, 28)\n",
      "x_test shape: (10000, 28, 28)\n",
      "y_train shape: (60000,)\n",
      "y_test shape: (10000,)\n"
     ]
    }
   ],
   "source": [
    "(x_train, y_train), (x_test, y_test) = mnist.load_data()\n",
    "\n",
    "print(\"x_train shape:\", x_train.shape)\n",
    "print(\"x_test shape:\", x_test.shape)\n",
    "print(\"y_train shape:\", y_train.shape)\n",
    "print(\"y_test shape:\", y_test.shape)"
   ]
  },
  {
   "cell_type": "code",
   "execution_count": 3,
   "id": "bbe9ac58-4e09-41b0-aa5c-1f94293bdfa5",
   "metadata": {},
   "outputs": [],
   "source": [
    "# Reshape\n",
    "x_train_sc = x_train.reshape(60000, 784)\n",
    "x_test_sc = x_test.reshape(10000, 784)\n",
    "\n",
    "# Scale between 0 and 1\n",
    "x_train_sc = x_train_sc / 255\n",
    "x_test_sc = x_test_sc / 255"
   ]
  },
  {
   "cell_type": "markdown",
   "id": "cbaa0600-a0ac-4c32-88dc-d90276fd9410",
   "metadata": {},
   "source": [
    "# Train model"
   ]
  },
  {
   "cell_type": "code",
   "execution_count": 4,
   "id": "236e2109-3b94-462b-8566-fa7917d0e0e2",
   "metadata": {},
   "outputs": [],
   "source": [
    "# Create custom scorer for tuning\n",
    "def f1_global(y_true, y_pred):\n",
    "    precision_macro = precision_score(y_true, y_pred, average=\"macro\")\n",
    "    recall_macro = recall_score(y_true, y_pred, average=\"macro\")\n",
    "    return (2 * precision_macro * recall_macro) / (precision_macro + recall_macro)\n",
    "\n",
    "f1_global_scorer = make_scorer(f1_global, greater_is_better=True)"
   ]
  },
  {
   "cell_type": "code",
   "execution_count": 5,
   "id": "e763ee89-9770-4e2f-ab0a-1533cee43a41",
   "metadata": {},
   "outputs": [
    {
     "name": "stdout",
     "output_type": "stream",
     "text": [
      "Fitting 5 folds for each of 6 candidates, totalling 30 fits\n",
      "[CV 1/5] END multi_class=multinomial, penalty=None, solver=lbfgs;, score=0.916 total time=  36.0s\n",
      "[CV 2/5] END multi_class=multinomial, penalty=None, solver=lbfgs;, score=0.908 total time=  43.0s\n",
      "[CV 3/5] END multi_class=multinomial, penalty=None, solver=lbfgs;, score=0.910 total time=  39.6s\n",
      "[CV 4/5] END multi_class=multinomial, penalty=None, solver=lbfgs;, score=0.906 total time=  38.1s\n",
      "[CV 5/5] END multi_class=multinomial, penalty=None, solver=lbfgs;, score=0.922 total time=  38.7s\n",
      "[CV 1/5] END multi_class=multinomial, penalty=l2, solver=lbfgs;, score=0.923 total time=  31.8s\n",
      "[CV 2/5] END multi_class=multinomial, penalty=l2, solver=lbfgs;, score=0.914 total time=  29.9s\n",
      "[CV 3/5] END multi_class=multinomial, penalty=l2, solver=lbfgs;, score=0.916 total time=  35.4s\n",
      "[CV 4/5] END multi_class=multinomial, penalty=l2, solver=lbfgs;, score=0.914 total time=  35.4s\n",
      "[CV 5/5] END multi_class=multinomial, penalty=l2, solver=lbfgs;, score=0.925 total time=  32.7s\n",
      "[CV 1/5] END multi_class=ovr, penalty=None, solver=lbfgs;, score=0.915 total time=  16.3s\n",
      "[CV 2/5] END multi_class=ovr, penalty=None, solver=lbfgs;, score=0.911 total time=  15.7s\n",
      "[CV 3/5] END multi_class=ovr, penalty=None, solver=lbfgs;, score=0.909 total time=  18.3s\n",
      "[CV 4/5] END multi_class=ovr, penalty=None, solver=lbfgs;, score=0.908 total time=  17.9s\n",
      "[CV 5/5] END multi_class=ovr, penalty=None, solver=lbfgs;, score=0.920 total time=  19.2s\n",
      "[CV 1/5] END multi_class=ovr, penalty=l2, solver=lbfgs;, score=0.915 total time=  11.5s\n",
      "[CV 2/5] END multi_class=ovr, penalty=l2, solver=lbfgs;, score=0.910 total time=  11.0s\n",
      "[CV 3/5] END multi_class=ovr, penalty=l2, solver=lbfgs;, score=0.911 total time=  12.0s\n",
      "[CV 4/5] END multi_class=ovr, penalty=l2, solver=lbfgs;, score=0.908 total time=  12.1s\n",
      "[CV 5/5] END multi_class=ovr, penalty=l2, solver=lbfgs;, score=0.920 total time=  11.7s\n"
     ]
    },
    {
     "name": "stderr",
     "output_type": "stream",
     "text": [
      "C:\\Users\\lucat\\anaconda3\\envs\\AI_LAB\\lib\\site-packages\\sklearn\\linear_model\\_sag.py:350: ConvergenceWarning: The max_iter was reached which means the coef_ did not converge\n",
      "  warnings.warn(\n"
     ]
    },
    {
     "name": "stdout",
     "output_type": "stream",
     "text": [
      "[CV 1/5] END multi_class=multinomial, penalty=l1, solver=saga;, score=0.923 total time=18.8min\n"
     ]
    },
    {
     "name": "stderr",
     "output_type": "stream",
     "text": [
      "C:\\Users\\lucat\\anaconda3\\envs\\AI_LAB\\lib\\site-packages\\sklearn\\linear_model\\_sag.py:350: ConvergenceWarning: The max_iter was reached which means the coef_ did not converge\n",
      "  warnings.warn(\n"
     ]
    },
    {
     "name": "stdout",
     "output_type": "stream",
     "text": [
      "[CV 2/5] END multi_class=multinomial, penalty=l1, solver=saga;, score=0.916 total time=18.2min\n"
     ]
    },
    {
     "name": "stderr",
     "output_type": "stream",
     "text": [
      "C:\\Users\\lucat\\anaconda3\\envs\\AI_LAB\\lib\\site-packages\\sklearn\\linear_model\\_sag.py:350: ConvergenceWarning: The max_iter was reached which means the coef_ did not converge\n",
      "  warnings.warn(\n"
     ]
    },
    {
     "name": "stdout",
     "output_type": "stream",
     "text": [
      "[CV 3/5] END multi_class=multinomial, penalty=l1, solver=saga;, score=0.918 total time=18.4min\n"
     ]
    },
    {
     "name": "stderr",
     "output_type": "stream",
     "text": [
      "C:\\Users\\lucat\\anaconda3\\envs\\AI_LAB\\lib\\site-packages\\sklearn\\linear_model\\_sag.py:350: ConvergenceWarning: The max_iter was reached which means the coef_ did not converge\n",
      "  warnings.warn(\n"
     ]
    },
    {
     "name": "stdout",
     "output_type": "stream",
     "text": [
      "[CV 4/5] END multi_class=multinomial, penalty=l1, solver=saga;, score=0.915 total time=18.3min\n"
     ]
    },
    {
     "name": "stderr",
     "output_type": "stream",
     "text": [
      "C:\\Users\\lucat\\anaconda3\\envs\\AI_LAB\\lib\\site-packages\\sklearn\\linear_model\\_sag.py:350: ConvergenceWarning: The max_iter was reached which means the coef_ did not converge\n",
      "  warnings.warn(\n"
     ]
    },
    {
     "name": "stdout",
     "output_type": "stream",
     "text": [
      "[CV 5/5] END multi_class=multinomial, penalty=l1, solver=saga;, score=0.926 total time=18.4min\n"
     ]
    },
    {
     "name": "stderr",
     "output_type": "stream",
     "text": [
      "C:\\Users\\lucat\\anaconda3\\envs\\AI_LAB\\lib\\site-packages\\sklearn\\linear_model\\_sag.py:350: ConvergenceWarning: The max_iter was reached which means the coef_ did not converge\n",
      "  warnings.warn(\n"
     ]
    },
    {
     "name": "stdout",
     "output_type": "stream",
     "text": [
      "[CV 1/5] END multi_class=ovr, penalty=l1, solver=saga;, score=0.916 total time= 7.4min\n"
     ]
    },
    {
     "name": "stderr",
     "output_type": "stream",
     "text": [
      "C:\\Users\\lucat\\anaconda3\\envs\\AI_LAB\\lib\\site-packages\\sklearn\\linear_model\\_sag.py:350: ConvergenceWarning: The max_iter was reached which means the coef_ did not converge\n",
      "  warnings.warn(\n"
     ]
    },
    {
     "name": "stdout",
     "output_type": "stream",
     "text": [
      "[CV 2/5] END multi_class=ovr, penalty=l1, solver=saga;, score=0.912 total time= 7.3min\n"
     ]
    },
    {
     "name": "stderr",
     "output_type": "stream",
     "text": [
      "C:\\Users\\lucat\\anaconda3\\envs\\AI_LAB\\lib\\site-packages\\sklearn\\linear_model\\_sag.py:350: ConvergenceWarning: The max_iter was reached which means the coef_ did not converge\n",
      "  warnings.warn(\n"
     ]
    },
    {
     "name": "stdout",
     "output_type": "stream",
     "text": [
      "[CV 3/5] END multi_class=ovr, penalty=l1, solver=saga;, score=0.911 total time= 7.3min\n"
     ]
    },
    {
     "name": "stderr",
     "output_type": "stream",
     "text": [
      "C:\\Users\\lucat\\anaconda3\\envs\\AI_LAB\\lib\\site-packages\\sklearn\\linear_model\\_sag.py:350: ConvergenceWarning: The max_iter was reached which means the coef_ did not converge\n",
      "  warnings.warn(\n"
     ]
    },
    {
     "name": "stdout",
     "output_type": "stream",
     "text": [
      "[CV 4/5] END multi_class=ovr, penalty=l1, solver=saga;, score=0.909 total time= 7.3min\n"
     ]
    },
    {
     "name": "stderr",
     "output_type": "stream",
     "text": [
      "C:\\Users\\lucat\\anaconda3\\envs\\AI_LAB\\lib\\site-packages\\sklearn\\linear_model\\_sag.py:350: ConvergenceWarning: The max_iter was reached which means the coef_ did not converge\n",
      "  warnings.warn(\n"
     ]
    },
    {
     "name": "stdout",
     "output_type": "stream",
     "text": [
      "[CV 5/5] END multi_class=ovr, penalty=l1, solver=saga;, score=0.921 total time= 7.5min\n"
     ]
    },
    {
     "name": "stderr",
     "output_type": "stream",
     "text": [
      "C:\\Users\\lucat\\anaconda3\\envs\\AI_LAB\\lib\\site-packages\\sklearn\\linear_model\\_sag.py:350: ConvergenceWarning: The max_iter was reached which means the coef_ did not converge\n",
      "  warnings.warn(\n"
     ]
    }
   ],
   "source": [
    "m = LogisticRegression(n_jobs=-1, random_state=25, max_iter=300)\n",
    "\n",
    "parameters = [\n",
    "    {\n",
    "        \"solver\": [\"lbfgs\"],\n",
    "        \"penalty\": [None, \"l2\"],\n",
    "        \"multi_class\": [\"multinomial\", \"ovr\"]\n",
    "    },\n",
    "    {\n",
    "        \"solver\": [\"saga\"],\n",
    "        \"penalty\": [\"l1\"],\n",
    "        \"multi_class\": [\"multinomial\", \"ovr\"]\n",
    "    }\n",
    "]\n",
    "\n",
    "grid_search = GridSearchCV(m, parameters, verbose=3, scoring=f1_global_scorer)\n",
    "grid_search.fit(x_train_sc, y_train)\n",
    "model = grid_search.best_estimator_\n",
    "score = grid_search.best_score_"
   ]
  },
  {
   "cell_type": "code",
   "execution_count": 6,
   "id": "f6f85017-5c6a-4645-a1ef-dd2be37e53b6",
   "metadata": {},
   "outputs": [
    {
     "name": "stdout",
     "output_type": "stream",
     "text": [
      "Mean cross-validated score of the best_estimator: 0.9196505448147251\n",
      "\n",
      "MODEL OPTIMAL PARAMETERS\n",
      "penalty: l1\n",
      "multi_class: multinomial\n",
      "solver: saga\n"
     ]
    }
   ],
   "source": [
    "print(\"Mean cross-validated score of the best_estimator:\", score)\n",
    "print(\"\\nModel optimal parameters\".upper())\n",
    "print(\"penalty:\", model.get_params()[\"penalty\"])\n",
    "print(\"multi_class:\", model.get_params()[\"multi_class\"])\n",
    "print(\"solver:\", model.get_params()[\"solver\"])"
   ]
  },
  {
   "cell_type": "markdown",
   "id": "51262815-9132-4350-a5d6-0a89d1e34fb0",
   "metadata": {},
   "source": [
    "# Test Model"
   ]
  },
  {
   "cell_type": "code",
   "execution_count": 7,
   "id": "765a932e-26cc-4c39-8fd4-8db64eab65d0",
   "metadata": {},
   "outputs": [
    {
     "name": "stdout",
     "output_type": "stream",
     "text": [
      "Accuracy score: 92.8200%\n",
      "Precision macro: 92.7355%\n",
      "Recall macro: 92.7179%\n",
      "F1 macro: 92.7194%\n",
      "F1 global: 92.7267%\n"
     ]
    }
   ],
   "source": [
    "predictions = model.predict(x_test_sc)\n",
    "\n",
    "accuracy = accuracy_score(y_test, predictions)\n",
    "precision = precision_score(y_test, predictions, average=\"macro\")\n",
    "recall = recall_score(y_test, predictions, average=\"macro\")\n",
    "f1_macro = f1_score(y_test, predictions, average=\"macro\")\n",
    "f1_glob = (2 * precision * recall) / (precision + recall)\n",
    "\n",
    "print(\"Accuracy score: {:.4f}%\\nPrecision macro: {:.4f}%\\nRecall macro: {:.4f}%\".format(accuracy*100,precision*100,recall*100))\n",
    "print(\"F1 macro: {:.4f}%\\nF1 global: {:.4f}%\".format(f1_macro*100, f1_glob*100))"
   ]
  },
  {
   "cell_type": "code",
   "execution_count": 8,
   "id": "fa235411-323b-4bd9-a8d1-9d684f1edc0e",
   "metadata": {},
   "outputs": [
    {
     "data": {
      "image/png": "[encoded data removed]",
      "text/plain": [
       "<Figure size 640x480 with 2 Axes>"
      ]
     },
     "metadata": {},
     "output_type": "display_data"
    }
   ],
   "source": [
    "# Display confusion matrix\n",
    "cmap = sns.light_palette(color=sns.color_palette(\"hls\", 2)[1], as_cmap=True)\n",
    "ConfusionMatrixDisplay.from_predictions(y_true=y_test,\n",
    "                                        y_pred=predictions,\n",
    "                                        display_labels=model.classes_,\n",
    "                                        cmap=cmap)\n",
    "plt.show()"
   ]
  },
  {
   "cell_type": "markdown",
   "id": "2f733732-9f5b-4f08-9a95-29c96af3c066",
   "metadata": {},
   "source": [
    "# PCA\n",
    "# Load data"
   ]
  },
  {
   "cell_type": "code",
   "execution_count": 9,
   "id": "d3e95052-3ed2-4e9b-8a48-fe2f0bc851d4",
   "metadata": {},
   "outputs": [
    {
     "name": "stdout",
     "output_type": "stream",
     "text": [
      "x_train shape: (60000, 28, 28)\n",
      "x_test shape: (10000, 28, 28)\n",
      "y_train shape: (60000,)\n",
      "y_test shape: (10000,)\n"
     ]
    }
   ],
   "source": [
    "(x_train, y_train), (x_test, y_test) = mnist.load_data()\n",
    "\n",
    "print(\"x_train shape:\", x_train.shape)\n",
    "print(\"x_test shape:\", x_test.shape)\n",
    "print(\"y_train shape:\", y_train.shape)\n",
    "print(\"y_test shape:\", y_test.shape)"
   ]
  },
  {
   "cell_type": "markdown",
   "id": "0056cc84-d8fb-4a56-b7c0-46607c640115",
   "metadata": {},
   "source": [
    "# Train model with pipeline"
   ]
  },
  {
   "cell_type": "code",
   "execution_count": 10,
   "id": "6f99403a-2413-458c-872f-ad08d2b50904",
   "metadata": {},
   "outputs": [
    {
     "name": "stdout",
     "output_type": "stream",
     "text": [
      "Fitting 5 folds for each of 6 candidates, totalling 30 fits\n",
      "[CV 1/5] END logistic__multi_class=multinomial, logistic__penalty=None, logistic__solver=lbfgs;, score=0.920 total time=  23.1s\n",
      "[CV 2/5] END logistic__multi_class=multinomial, logistic__penalty=None, logistic__solver=lbfgs;, score=0.916 total time=  24.1s\n",
      "[CV 3/5] END logistic__multi_class=multinomial, logistic__penalty=None, logistic__solver=lbfgs;, score=0.918 total time=  25.1s\n",
      "[CV 4/5] END logistic__multi_class=multinomial, logistic__penalty=None, logistic__solver=lbfgs;, score=0.915 total time=  25.2s\n",
      "[CV 5/5] END logistic__multi_class=multinomial, logistic__penalty=None, logistic__solver=lbfgs;, score=0.926 total time=  25.3s\n",
      "[CV 1/5] END logistic__multi_class=multinomial, logistic__penalty=l2, logistic__solver=lbfgs;, score=0.921 total time=  23.4s\n",
      "[CV 2/5] END logistic__multi_class=multinomial, logistic__penalty=l2, logistic__solver=lbfgs;, score=0.917 total time=  22.9s\n",
      "[CV 3/5] END logistic__multi_class=multinomial, logistic__penalty=l2, logistic__solver=lbfgs;, score=0.918 total time=  21.8s\n",
      "[CV 4/5] END logistic__multi_class=multinomial, logistic__penalty=l2, logistic__solver=lbfgs;, score=0.915 total time=  23.0s\n",
      "[CV 5/5] END logistic__multi_class=multinomial, logistic__penalty=l2, logistic__solver=lbfgs;, score=0.926 total time=  21.8s\n",
      "[CV 1/5] END logistic__multi_class=ovr, logistic__penalty=None, logistic__solver=lbfgs;, score=0.915 total time=  16.7s\n",
      "[CV 2/5] END logistic__multi_class=ovr, logistic__penalty=None, logistic__solver=lbfgs;, score=0.910 total time=  15.8s\n",
      "[CV 3/5] END logistic__multi_class=ovr, logistic__penalty=None, logistic__solver=lbfgs;, score=0.912 total time=  15.8s\n",
      "[CV 4/5] END logistic__multi_class=ovr, logistic__penalty=None, logistic__solver=lbfgs;, score=0.909 total time=  17.1s\n",
      "[CV 5/5] END logistic__multi_class=ovr, logistic__penalty=None, logistic__solver=lbfgs;, score=0.923 total time=  16.5s\n",
      "[CV 1/5] END logistic__multi_class=ovr, logistic__penalty=l2, logistic__solver=lbfgs;, score=0.915 total time=  14.2s\n",
      "[CV 2/5] END logistic__multi_class=ovr, logistic__penalty=l2, logistic__solver=lbfgs;, score=0.911 total time=  12.9s\n",
      "[CV 3/5] END logistic__multi_class=ovr, logistic__penalty=l2, logistic__solver=lbfgs;, score=0.913 total time=  13.7s\n",
      "[CV 4/5] END logistic__multi_class=ovr, logistic__penalty=l2, logistic__solver=lbfgs;, score=0.908 total time=  14.3s\n",
      "[CV 5/5] END logistic__multi_class=ovr, logistic__penalty=l2, logistic__solver=lbfgs;, score=0.922 total time=  13.9s\n"
     ]
    },
    {
     "name": "stderr",
     "output_type": "stream",
     "text": [
      "C:\\Users\\lucat\\anaconda3\\envs\\AI_LAB\\lib\\site-packages\\sklearn\\linear_model\\_sag.py:350: ConvergenceWarning: The max_iter was reached which means the coef_ did not converge\n",
      "  warnings.warn(\n"
     ]
    },
    {
     "name": "stdout",
     "output_type": "stream",
     "text": [
      "[CV 1/5] END logistic__multi_class=multinomial, logistic__penalty=l1, logistic__solver=saga;, score=0.922 total time= 6.3min\n"
     ]
    },
    {
     "name": "stderr",
     "output_type": "stream",
     "text": [
      "C:\\Users\\lucat\\anaconda3\\envs\\AI_LAB\\lib\\site-packages\\sklearn\\linear_model\\_sag.py:350: ConvergenceWarning: The max_iter was reached which means the coef_ did not converge\n",
      "  warnings.warn(\n"
     ]
    },
    {
     "name": "stdout",
     "output_type": "stream",
     "text": [
      "[CV 2/5] END logistic__multi_class=multinomial, logistic__penalty=l1, logistic__solver=saga;, score=0.916 total time= 6.3min\n"
     ]
    },
    {
     "name": "stderr",
     "output_type": "stream",
     "text": [
      "C:\\Users\\lucat\\anaconda3\\envs\\AI_LAB\\lib\\site-packages\\sklearn\\linear_model\\_sag.py:350: ConvergenceWarning: The max_iter was reached which means the coef_ did not converge\n",
      "  warnings.warn(\n"
     ]
    },
    {
     "name": "stdout",
     "output_type": "stream",
     "text": [
      "[CV 3/5] END logistic__multi_class=multinomial, logistic__penalty=l1, logistic__solver=saga;, score=0.917 total time= 6.3min\n"
     ]
    },
    {
     "name": "stderr",
     "output_type": "stream",
     "text": [
      "C:\\Users\\lucat\\anaconda3\\envs\\AI_LAB\\lib\\site-packages\\sklearn\\linear_model\\_sag.py:350: ConvergenceWarning: The max_iter was reached which means the coef_ did not converge\n",
      "  warnings.warn(\n"
     ]
    },
    {
     "name": "stdout",
     "output_type": "stream",
     "text": [
      "[CV 4/5] END logistic__multi_class=multinomial, logistic__penalty=l1, logistic__solver=saga;, score=0.913 total time= 6.4min\n"
     ]
    },
    {
     "name": "stderr",
     "output_type": "stream",
     "text": [
      "C:\\Users\\lucat\\anaconda3\\envs\\AI_LAB\\lib\\site-packages\\sklearn\\linear_model\\_sag.py:350: ConvergenceWarning: The max_iter was reached which means the coef_ did not converge\n",
      "  warnings.warn(\n"
     ]
    },
    {
     "name": "stdout",
     "output_type": "stream",
     "text": [
      "[CV 5/5] END logistic__multi_class=multinomial, logistic__penalty=l1, logistic__solver=saga;, score=0.925 total time= 6.6min\n"
     ]
    },
    {
     "name": "stderr",
     "output_type": "stream",
     "text": [
      "C:\\Users\\lucat\\anaconda3\\envs\\AI_LAB\\lib\\site-packages\\sklearn\\linear_model\\_sag.py:350: ConvergenceWarning: The max_iter was reached which means the coef_ did not converge\n",
      "  warnings.warn(\n"
     ]
    },
    {
     "name": "stdout",
     "output_type": "stream",
     "text": [
      "[CV 1/5] END logistic__multi_class=ovr, logistic__penalty=l1, logistic__solver=saga;, score=0.908 total time= 3.7min\n"
     ]
    },
    {
     "name": "stderr",
     "output_type": "stream",
     "text": [
      "C:\\Users\\lucat\\anaconda3\\envs\\AI_LAB\\lib\\site-packages\\sklearn\\linear_model\\_sag.py:350: ConvergenceWarning: The max_iter was reached which means the coef_ did not converge\n",
      "  warnings.warn(\n"
     ]
    },
    {
     "name": "stdout",
     "output_type": "stream",
     "text": [
      "[CV 2/5] END logistic__multi_class=ovr, logistic__penalty=l1, logistic__solver=saga;, score=0.901 total time= 4.5min\n"
     ]
    },
    {
     "name": "stderr",
     "output_type": "stream",
     "text": [
      "C:\\Users\\lucat\\anaconda3\\envs\\AI_LAB\\lib\\site-packages\\sklearn\\linear_model\\_sag.py:350: ConvergenceWarning: The max_iter was reached which means the coef_ did not converge\n",
      "  warnings.warn(\n"
     ]
    },
    {
     "name": "stdout",
     "output_type": "stream",
     "text": [
      "[CV 3/5] END logistic__multi_class=ovr, logistic__penalty=l1, logistic__solver=saga;, score=0.903 total time= 5.3min\n"
     ]
    },
    {
     "name": "stderr",
     "output_type": "stream",
     "text": [
      "C:\\Users\\lucat\\anaconda3\\envs\\AI_LAB\\lib\\site-packages\\sklearn\\linear_model\\_sag.py:350: ConvergenceWarning: The max_iter was reached which means the coef_ did not converge\n",
      "  warnings.warn(\n"
     ]
    },
    {
     "name": "stdout",
     "output_type": "stream",
     "text": [
      "[CV 4/5] END logistic__multi_class=ovr, logistic__penalty=l1, logistic__solver=saga;, score=0.898 total time= 4.5min\n"
     ]
    },
    {
     "name": "stderr",
     "output_type": "stream",
     "text": [
      "C:\\Users\\lucat\\anaconda3\\envs\\AI_LAB\\lib\\site-packages\\sklearn\\linear_model\\_sag.py:350: ConvergenceWarning: The max_iter was reached which means the coef_ did not converge\n",
      "  warnings.warn(\n"
     ]
    },
    {
     "name": "stdout",
     "output_type": "stream",
     "text": [
      "[CV 5/5] END logistic__multi_class=ovr, logistic__penalty=l1, logistic__solver=saga;, score=0.910 total time= 4.7min\n"
     ]
    }
   ],
   "source": [
    "# Reshape\n",
    "x_train_pca = x_train.reshape(60000, 784)\n",
    "x_test_pca = x_test.reshape(10000, 784)\n",
    "\n",
    "# Create pipeline\n",
    "logistic = LogisticRegression(n_jobs=-1, random_state=25, max_iter=300)\n",
    "scaler = StandardScaler()\n",
    "pca = PCA(0.95)\n",
    "\n",
    "pipe = Pipeline(steps=[(\"scaler\", scaler), (\"pca\", pca), (\"logistic\", logistic)])\n",
    "\n",
    "parameters = [\n",
    "    {\n",
    "        \"logistic__solver\": [\"lbfgs\"],\n",
    "        \"logistic__penalty\": [None, \"l2\"],\n",
    "        \"logistic__multi_class\": [\"multinomial\", \"ovr\"]\n",
    "    },\n",
    "    {\n",
    "        \"logistic__solver\": [\"saga\"],\n",
    "        \"logistic__penalty\": [\"l1\"],\n",
    "        \"logistic__multi_class\": [\"multinomial\", \"ovr\"]\n",
    "    }\n",
    "]\n",
    "\n",
    "grid_search = GridSearchCV(pipe, parameters, verbose=3, scoring=f1_global_scorer)\n",
    "grid_search.fit(x_train_pca, y_train)\n",
    "\n",
    "model = grid_search.best_estimator_\n",
    "score = grid_search.best_score_"
   ]
  },
  {
   "cell_type": "code",
   "execution_count": 11,
   "id": "6d2b12f1-df8f-4808-bf33-6bc8d647f452",
   "metadata": {},
   "outputs": [
    {
     "name": "stdout",
     "output_type": "stream",
     "text": [
      "Mean cross-validated score of the best_estimator: 0.9192934241935842\n",
      "\n",
      "MODEL OPTIMAL PARAMETERS\n",
      "penalty: l2\n",
      "multi_class: multinomial\n",
      "solver: lbfgs\n"
     ]
    }
   ],
   "source": [
    "print(\"Mean cross-validated score of the best_estimator:\", score)\n",
    "print(\"\\nModel optimal parameters\".upper())\n",
    "print(\"penalty:\", model.get_params()[\"logistic__penalty\"])\n",
    "print(\"multi_class:\", model.get_params()[\"logistic__multi_class\"])\n",
    "print(\"solver:\", model.get_params()[\"logistic__solver\"])"
   ]
  },
  {
   "cell_type": "markdown",
   "id": "dc93ab47-2ade-43a3-8c8e-72458207616d",
   "metadata": {},
   "source": [
    "# Test"
   ]
  },
  {
   "cell_type": "code",
   "execution_count": 12,
   "id": "21c50040-b59a-4ee6-87ff-51d7defbb116",
   "metadata": {},
   "outputs": [
    {
     "name": "stdout",
     "output_type": "stream",
     "text": [
      "Accuracy score: 92.6500%\n",
      "Precision macro: 92.5717%\n",
      "Recall macro: 92.5453%\n",
      "F1 macro: 92.5492%\n",
      "F1 global: 92.5585%\n"
     ]
    }
   ],
   "source": [
    "predictions = model.predict(x_test_pca)\n",
    "\n",
    "accuracy = accuracy_score(y_test, predictions)\n",
    "precision = precision_score(y_test, predictions, average=\"macro\")\n",
    "recall = recall_score(y_test, predictions, average=\"macro\")\n",
    "f1_macro = f1_score(y_test, predictions, average=\"macro\")\n",
    "f1_glob = (2 * precision * recall) / (precision + recall)\n",
    "\n",
    "print(\"Accuracy score: {:.4f}%\\nPrecision macro: {:.4f}%\\nRecall macro: {:.4f}%\".format(accuracy*100,precision*100,recall*100))\n",
    "print(\"F1 macro: {:.4f}%\\nF1 global: {:.4f}%\".format(f1_macro*100, f1_glob*100))"
   ]
  },
  {
   "cell_type": "code",
   "execution_count": 13,
   "id": "e882ef1f-171f-43b3-8afd-fbd0a1ca6af9",
   "metadata": {},
   "outputs": [
    {
     "data": {
      "image/png": "[encoded data removed]",
      "text/plain": [
       "<Figure size 640x480 with 2 Axes>"
      ]
     },
     "metadata": {},
     "output_type": "display_data"
    }
   ],
   "source": [
    "ConfusionMatrixDisplay.from_predictions(y_true=y_test,\n",
    "                                        y_pred=predictions,\n",
    "                                        display_labels=model.classes_,\n",
    "                                        cmap=cmap)\n",
    "plt.show()"
   ]
  },
  {
   "cell_type": "code",
   "execution_count": null,
   "id": "3937bb16-d630-4df7-b49d-1f0996e7399e",
   "metadata": {},
   "outputs": [],
   "source": []
  }
 ],
 "metadata": {
  "kernelspec": {
   "display_name": "Python 3 (ipykernel)",
   "language": "python",
   "name": "python3"
  },
  "language_info": {
   "codemirror_mode": {
    "name": "ipython",
    "version": 3
   },
   "file_extension": ".py",
   "mimetype": "text/x-python",
   "name": "python",
   "nbconvert_exporter": "python",
   "pygments_lexer": "ipython3",
   "version": "3.10.13"
  }
 },
 "nbformat": 4,
 "nbformat_minor": 5
}
