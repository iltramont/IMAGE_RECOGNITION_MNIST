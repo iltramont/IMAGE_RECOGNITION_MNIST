{
 "cells": [
  {
   "cell_type": "markdown",
   "id": "2b04cade-147c-4710-871c-45f16afc7b93",
   "metadata": {},
   "source": [
    "# Models\n",
    "In this notebook we will build models with the hyperparameters obtained in the other notebooks."
   ]
  },
  {
   "cell_type": "code",
   "execution_count": 1,
   "id": "1cc421e6",
   "metadata": {},
   "outputs": [
    {
     "name": "stdout",
     "output_type": "stream",
     "text": [
      "WARNING:tensorflow:From C:\\Users\\lucat\\anaconda3\\envs\\AI_LAB\\lib\\site-packages\\keras\\src\\losses.py:2976: The name tf.losses.sparse_softmax_cross_entropy is deprecated. Please use tf.compat.v1.losses.sparse_softmax_cross_entropy instead.\n",
      "\n"
     ]
    }
   ],
   "source": [
    "import numpy as np\n",
    "import pandas as pd\n",
    "import pickle\n",
    "import warnings\n",
    "import time\n",
    "\n",
    "from sklearn.preprocessing import StandardScaler\n",
    "from sklearn.decomposition import PCA\n",
    "\n",
    "from sklearn.neighbors import KNeighborsClassifier\n",
    "from sklearn.linear_model import LogisticRegression\n",
    "from sklearn.ensemble import RandomForestClassifier\n",
    "from sklearn.utils import resample\n",
    "\n",
    "from tensorflow.keras.datasets import mnist\n",
    "\n",
    "warnings.filterwarnings('ignore')\n",
    "\n",
    "SAVE_MODELS = False"
   ]
  },
  {
   "cell_type": "markdown",
   "id": "4363b836",
   "metadata": {},
   "source": [
    "## Load data"
   ]
  },
  {
   "cell_type": "code",
   "execution_count": 2,
   "id": "b9677751",
   "metadata": {},
   "outputs": [
    {
     "name": "stdout",
     "output_type": "stream",
     "text": [
      "x_train shape: (60000, 28, 28)\n",
      "x_test shape: (10000, 28, 28)\n",
      "y_train shape: (60000,)\n",
      "y_test shape: (10000,)\n"
     ]
    }
   ],
   "source": [
    "(x_train, y_train), (x_test, y_test) = mnist.load_data()\n",
    "\n",
    "print(\"x_train shape:\", x_train.shape)\n",
    "print(\"x_test shape:\", x_test.shape)\n",
    "print(\"y_train shape:\", y_train.shape)\n",
    "print(\"y_test shape:\", y_test.shape)"
   ]
  },
  {
   "cell_type": "markdown",
   "id": "ea813e90-2392-4976-ba1e-a341c516db23",
   "metadata": {},
   "source": [
    "## Reshape data"
   ]
  },
  {
   "cell_type": "code",
   "execution_count": 3,
   "id": "aa3cec04-2041-47ea-ae0b-6cc1818ddd67",
   "metadata": {},
   "outputs": [],
   "source": [
    "# Reshape\n",
    "x_train = x_train.reshape(60000, 784)\n",
    "x_test = x_test.reshape(10000, 784)"
   ]
  },
  {
   "cell_type": "markdown",
   "id": "2d3dbe2c",
   "metadata": {},
   "source": [
    "## Scaling between 0 and 1"
   ]
  },
  {
   "cell_type": "code",
   "execution_count": 4,
   "id": "84b69362-e7e3-4333-9c4e-9bcccca71586",
   "metadata": {},
   "outputs": [],
   "source": [
    "x_train_sc = x_train / 255\n",
    "x_test_sc = x_test / 255"
   ]
  },
  {
   "cell_type": "markdown",
   "id": "d5a06114",
   "metadata": {},
   "source": [
    "## PCA\n",
    "We will use a 95% PCA."
   ]
  },
  {
   "cell_type": "code",
   "execution_count": 5,
   "id": "22086097-e8e9-45a6-83bc-8f5ff1081761",
   "metadata": {},
   "outputs": [
    {
     "name": "stdout",
     "output_type": "stream",
     "text": [
      "Original number of features: 784\n",
      "Number of principal components: 331\n"
     ]
    }
   ],
   "source": [
    "scaler = StandardScaler()\n",
    "pca = PCA(0.95)\n",
    "\n",
    "x_train_std = scaler.fit_transform(x_train)\n",
    "x_test_std = scaler.transform(x_test)\n",
    "\n",
    "x_train_pca = pca.fit_transform(x_train_std)\n",
    "x_test_pca = pca.transform(x_test_std)\n",
    "\n",
    "print(\"Original number of features:\", x_train_std.shape[1])\n",
    "print(\"Number of principal components:\", pca.n_components_)"
   ]
  },
  {
   "cell_type": "markdown",
   "id": "51688168",
   "metadata": {},
   "source": [
    "## Train models"
   ]
  },
  {
   "cell_type": "code",
   "execution_count": 6,
   "id": "5dbfca41",
   "metadata": {},
   "outputs": [
    {
     "name": "stdout",
     "output_type": "stream",
     "text": [
      "KNN complete\n"
     ]
    }
   ],
   "source": [
    "knn = KNeighborsClassifier(n_neighbors=4, weights=\"distance\", n_jobs=-1).fit(x_train_sc, y_train)\n",
    "knn_pca = KNeighborsClassifier(n_neighbors=4, weights=\"distance\", n_jobs=-1).fit(x_train_pca, y_train)\n",
    "print(\"KNN complete\")"
   ]
  },
  {
   "cell_type": "code",
   "execution_count": 7,
   "id": "ec66ba8f",
   "metadata": {},
   "outputs": [
    {
     "name": "stdout",
     "output_type": "stream",
     "text": [
      "Random Forest complete\n"
     ]
    }
   ],
   "source": [
    "rf = RandomForestClassifier(criterion=\"gini\", max_features=\"sqrt\", random_state=25, n_jobs=-1).fit(x_train_sc, y_train)\n",
    "rf_pca = RandomForestClassifier(criterion=\"entropy\", max_features=\"sqrt\", random_state=25, n_jobs=-1).fit(x_train_pca, y_train)\n",
    "print(\"Random Forest complete\")"
   ]
  },
  {
   "cell_type": "code",
   "execution_count": 8,
   "id": "b3e7b64d",
   "metadata": {},
   "outputs": [
    {
     "name": "stdout",
     "output_type": "stream",
     "text": [
      "Logistic Regression complete\n"
     ]
    }
   ],
   "source": [
    "lr = LogisticRegression(penalty=\"l1\", solver=\"saga\", multi_class=\"multinomial\").fit(x_train_sc, y_train)\n",
    "lr_pca = LogisticRegression(penalty=\"l2\", solver=\"lbfgs\", multi_class=\"multinomial\").fit(x_train_pca, y_train)\n",
    "print(\"Logistic Regression complete\")"
   ]
  },
  {
   "cell_type": "code",
   "execution_count": 9,
   "id": "5aa3c60f",
   "metadata": {},
   "outputs": [],
   "source": [
    "models = {\n",
    "    \"knn\": knn,\n",
    "    \"knn_pca\": knn_pca,\n",
    "    \"lr\": lr,\n",
    "    \"lr_pca\": lr_pca,\n",
    "    \"rf\": rf,\n",
    "    \"rf_pca\": rf_pca,\n",
    "}"
   ]
  },
  {
   "cell_type": "code",
   "execution_count": 10,
   "id": "eaa01b2e",
   "metadata": {},
   "outputs": [],
   "source": [
    "if SAVE_MODELS:\n",
    "    # Save models with pickle\n",
    "    for key, m in models.items():\n",
    "        file_name = key + \".pkl\"\n",
    "        pickle.dump(m, open(file_name, \"wb\"))"
   ]
  },
  {
   "cell_type": "markdown",
   "id": "ff64c28a",
   "metadata": {},
   "source": [
    "## Predictions"
   ]
  },
  {
   "cell_type": "code",
   "execution_count": 11,
   "id": "5a3c03cf",
   "metadata": {},
   "outputs": [],
   "source": [
    "predictions = dict()\n",
    "predictions[\"groundtruth\"] = y_test\n",
    "for key in models.keys():\n",
    "    if \"_pca\" in key:\n",
    "        predictions[key] = models[key].predict(x_test_pca)\n",
    "    else:\n",
    "        predictions[key] = models[key].predict(x_test_sc)"
   ]
  },
  {
   "cell_type": "code",
   "execution_count": 12,
   "id": "c2494fcf",
   "metadata": {},
   "outputs": [
    {
     "data": {
      "text/html": [
       "<div>\n",
       "<style scoped>\n",
       "    .dataframe tbody tr th:only-of-type {\n",
       "        vertical-align: middle;\n",
       "    }\n",
       "\n",
       "    .dataframe tbody tr th {\n",
       "        vertical-align: top;\n",
       "    }\n",
       "\n",
       "    .dataframe thead th {\n",
       "        text-align: right;\n",
       "    }\n",
       "</style>\n",
       "<table border=\"1\" class=\"dataframe\">\n",
       "  <thead>\n",
       "    <tr style=\"text-align: right;\">\n",
       "      <th></th>\n",
       "      <th>groundtruth</th>\n",
       "      <th>knn</th>\n",
       "      <th>knn_pca</th>\n",
       "      <th>lr</th>\n",
       "      <th>lr_pca</th>\n",
       "      <th>rf</th>\n",
       "      <th>rf_pca</th>\n",
       "    </tr>\n",
       "  </thead>\n",
       "  <tbody>\n",
       "    <tr>\n",
       "      <th>0</th>\n",
       "      <td>7</td>\n",
       "      <td>7</td>\n",
       "      <td>7</td>\n",
       "      <td>7</td>\n",
       "      <td>7</td>\n",
       "      <td>7</td>\n",
       "      <td>7</td>\n",
       "    </tr>\n",
       "    <tr>\n",
       "      <th>1</th>\n",
       "      <td>2</td>\n",
       "      <td>2</td>\n",
       "      <td>2</td>\n",
       "      <td>2</td>\n",
       "      <td>2</td>\n",
       "      <td>2</td>\n",
       "      <td>2</td>\n",
       "    </tr>\n",
       "    <tr>\n",
       "      <th>2</th>\n",
       "      <td>1</td>\n",
       "      <td>1</td>\n",
       "      <td>1</td>\n",
       "      <td>1</td>\n",
       "      <td>1</td>\n",
       "      <td>1</td>\n",
       "      <td>1</td>\n",
       "    </tr>\n",
       "    <tr>\n",
       "      <th>3</th>\n",
       "      <td>0</td>\n",
       "      <td>0</td>\n",
       "      <td>0</td>\n",
       "      <td>0</td>\n",
       "      <td>0</td>\n",
       "      <td>0</td>\n",
       "      <td>0</td>\n",
       "    </tr>\n",
       "    <tr>\n",
       "      <th>4</th>\n",
       "      <td>4</td>\n",
       "      <td>4</td>\n",
       "      <td>4</td>\n",
       "      <td>4</td>\n",
       "      <td>4</td>\n",
       "      <td>4</td>\n",
       "      <td>4</td>\n",
       "    </tr>\n",
       "    <tr>\n",
       "      <th>...</th>\n",
       "      <td>...</td>\n",
       "      <td>...</td>\n",
       "      <td>...</td>\n",
       "      <td>...</td>\n",
       "      <td>...</td>\n",
       "      <td>...</td>\n",
       "      <td>...</td>\n",
       "    </tr>\n",
       "    <tr>\n",
       "      <th>9995</th>\n",
       "      <td>2</td>\n",
       "      <td>2</td>\n",
       "      <td>2</td>\n",
       "      <td>2</td>\n",
       "      <td>2</td>\n",
       "      <td>2</td>\n",
       "      <td>2</td>\n",
       "    </tr>\n",
       "    <tr>\n",
       "      <th>9996</th>\n",
       "      <td>3</td>\n",
       "      <td>3</td>\n",
       "      <td>3</td>\n",
       "      <td>3</td>\n",
       "      <td>3</td>\n",
       "      <td>3</td>\n",
       "      <td>3</td>\n",
       "    </tr>\n",
       "    <tr>\n",
       "      <th>9997</th>\n",
       "      <td>4</td>\n",
       "      <td>4</td>\n",
       "      <td>4</td>\n",
       "      <td>4</td>\n",
       "      <td>4</td>\n",
       "      <td>4</td>\n",
       "      <td>4</td>\n",
       "    </tr>\n",
       "    <tr>\n",
       "      <th>9998</th>\n",
       "      <td>5</td>\n",
       "      <td>5</td>\n",
       "      <td>5</td>\n",
       "      <td>5</td>\n",
       "      <td>5</td>\n",
       "      <td>5</td>\n",
       "      <td>5</td>\n",
       "    </tr>\n",
       "    <tr>\n",
       "      <th>9999</th>\n",
       "      <td>6</td>\n",
       "      <td>6</td>\n",
       "      <td>6</td>\n",
       "      <td>6</td>\n",
       "      <td>6</td>\n",
       "      <td>6</td>\n",
       "      <td>6</td>\n",
       "    </tr>\n",
       "  </tbody>\n",
       "</table>\n",
       "<p>10000 rows × 7 columns</p>\n",
       "</div>"
      ],
      "text/plain": [
       "      groundtruth  knn  knn_pca  lr  lr_pca  rf  rf_pca\n",
       "0               7    7        7   7       7   7       7\n",
       "1               2    2        2   2       2   2       2\n",
       "2               1    1        1   1       1   1       1\n",
       "3               0    0        0   0       0   0       0\n",
       "4               4    4        4   4       4   4       4\n",
       "...           ...  ...      ...  ..     ...  ..     ...\n",
       "9995            2    2        2   2       2   2       2\n",
       "9996            3    3        3   3       3   3       3\n",
       "9997            4    4        4   4       4   4       4\n",
       "9998            5    5        5   5       5   5       5\n",
       "9999            6    6        6   6       6   6       6\n",
       "\n",
       "[10000 rows x 7 columns]"
      ]
     },
     "metadata": {},
     "output_type": "display_data"
    }
   ],
   "source": [
    "predictions_df = pd.DataFrame(predictions)\n",
    "display(predictions_df)"
   ]
  },
  {
   "cell_type": "markdown",
   "id": "44498272-bc0e-4dbf-8d5c-ec123c2c231f",
   "metadata": {},
   "source": [
    "## Save predictions with csv file"
   ]
  },
  {
   "cell_type": "code",
   "execution_count": 13,
   "id": "ef5def72",
   "metadata": {},
   "outputs": [],
   "source": [
    "# Save DataFrame\n",
    "predictions_df.to_csv(\"predictions_mnist.csv\", index=False)"
   ]
  },
  {
   "cell_type": "code",
   "execution_count": 14,
   "id": "a76a093f-42eb-4abd-a602-ef892162062d",
   "metadata": {},
   "outputs": [
    {
     "name": "stdout",
     "output_type": "stream",
     "text": [
      "x_train shape: (60000, 28, 28)\n",
      "x_test shape: (10000, 28, 28)\n",
      "y_train shape: (60000,)\n",
      "y_test shape: (10000,)\n"
     ]
    }
   ],
   "source": [
    "(x_train, y_train), (x_test, y_test) = mnist.load_data()\n",
    "\n",
    "print(\"x_train shape:\", x_train.shape)\n",
    "print(\"x_test shape:\", x_test.shape)\n",
    "print(\"y_train shape:\", y_train.shape)\n",
    "print(\"y_test shape:\", y_test.shape)"
   ]
  },
  {
   "cell_type": "code",
   "execution_count": 15,
   "id": "230934d7-b882-43e9-bc0a-335930bf743a",
   "metadata": {},
   "outputs": [],
   "source": [
    "def predict_from_image(image, mod, use_pca=False, scaler=scaler, pca=pca):\n",
    "    im = image.reshape(1, -1)\n",
    "    if use_pca:\n",
    "        im = scaler.transform(im)\n",
    "        im = pca.transform(im)\n",
    "        return mod.predict(im)\n",
    "    else:\n",
    "        im = im / 255\n",
    "        return mod.predict(im)        "
   ]
  },
  {
   "cell_type": "code",
   "execution_count": 16,
   "id": "d65dc111-cf85-4d1b-b853-2ce41a135f25",
   "metadata": {},
   "outputs": [
    {
     "name": "stdout",
     "output_type": "stream",
     "text": [
      "Iteration 1 complete\n",
      "Iteration 2 complete\n",
      "Iteration 3 complete\n",
      "Iteration 4 complete\n",
      "Iteration 5 complete\n",
      "Iteration 6 complete\n",
      "Iteration 7 complete\n",
      "Iteration 8 complete\n",
      "Iteration 9 complete\n",
      "Iteration 10 complete\n",
      "Iteration 11 complete\n",
      "Iteration 12 complete\n",
      "Iteration 13 complete\n",
      "Iteration 14 complete\n",
      "Iteration 15 complete\n",
      "Iteration 16 complete\n",
      "Iteration 17 complete\n",
      "Iteration 18 complete\n",
      "Iteration 19 complete\n",
      "Iteration 20 complete\n"
     ]
    }
   ],
   "source": [
    "time_dict = dict()\n",
    "for model_name in models.keys():\n",
    "    time_dict[model_name] = []\n",
    "\n",
    "n_iterations = 20\n",
    "n_samples = 200\n",
    "for it in range(n_iterations):\n",
    "    sample = resample(x_test, n_samples=n_samples)\n",
    "    \n",
    "    for model_name in models.keys():\n",
    "        mod = models[model_name]\n",
    "        use_pca = False\n",
    "        if \"_pca\" in model_name:\n",
    "            use_pca = True\n",
    "\n",
    "        # Make predictions\n",
    "        t0 = time.time()\n",
    "        for im in sample:\n",
    "            predict_from_image(im, mod, use_pca=use_pca)\n",
    "        t1 = time.time()\n",
    "        \n",
    "        elapsed_time = t1 - t0\n",
    "        time_dict[model_name].append(elapsed_time)\n",
    "    print(\"Iteration {} complete\".format(it + 1))"
   ]
  },
  {
   "cell_type": "code",
   "execution_count": 17,
   "id": "05718c07-228e-495c-a728-7ac987232c13",
   "metadata": {},
   "outputs": [
    {
     "data": {
      "text/html": [
       "<div>\n",
       "<style scoped>\n",
       "    .dataframe tbody tr th:only-of-type {\n",
       "        vertical-align: middle;\n",
       "    }\n",
       "\n",
       "    .dataframe tbody tr th {\n",
       "        vertical-align: top;\n",
       "    }\n",
       "\n",
       "    .dataframe thead th {\n",
       "        text-align: right;\n",
       "    }\n",
       "</style>\n",
       "<table border=\"1\" class=\"dataframe\">\n",
       "  <thead>\n",
       "    <tr style=\"text-align: right;\">\n",
       "      <th></th>\n",
       "      <th>knn</th>\n",
       "      <th>knn_pca</th>\n",
       "      <th>lr</th>\n",
       "      <th>lr_pca</th>\n",
       "      <th>rf</th>\n",
       "      <th>rf_pca</th>\n",
       "    </tr>\n",
       "  </thead>\n",
       "  <tbody>\n",
       "    <tr>\n",
       "      <th>sample 1</th>\n",
       "      <td>5.524789</td>\n",
       "      <td>3.204314</td>\n",
       "      <td>0.046875</td>\n",
       "      <td>0.219510</td>\n",
       "      <td>9.103432</td>\n",
       "      <td>9.275419</td>\n",
       "    </tr>\n",
       "    <tr>\n",
       "      <th>sample 2</th>\n",
       "      <td>5.279866</td>\n",
       "      <td>2.424293</td>\n",
       "      <td>0.031258</td>\n",
       "      <td>0.127184</td>\n",
       "      <td>9.306986</td>\n",
       "      <td>9.328355</td>\n",
       "    </tr>\n",
       "    <tr>\n",
       "      <th>sample 3</th>\n",
       "      <td>5.547308</td>\n",
       "      <td>2.968476</td>\n",
       "      <td>0.015623</td>\n",
       "      <td>0.157279</td>\n",
       "      <td>9.253816</td>\n",
       "      <td>9.386984</td>\n",
       "    </tr>\n",
       "    <tr>\n",
       "      <th>sample 4</th>\n",
       "      <td>5.593665</td>\n",
       "      <td>3.046826</td>\n",
       "      <td>0.062933</td>\n",
       "      <td>0.236748</td>\n",
       "      <td>9.048225</td>\n",
       "      <td>9.513781</td>\n",
       "    </tr>\n",
       "    <tr>\n",
       "      <th>sample 5</th>\n",
       "      <td>5.566937</td>\n",
       "      <td>3.033562</td>\n",
       "      <td>0.031637</td>\n",
       "      <td>0.191558</td>\n",
       "      <td>9.137695</td>\n",
       "      <td>9.247313</td>\n",
       "    </tr>\n",
       "    <tr>\n",
       "      <th>sample 6</th>\n",
       "      <td>5.549124</td>\n",
       "      <td>2.990804</td>\n",
       "      <td>0.031856</td>\n",
       "      <td>0.141285</td>\n",
       "      <td>9.065421</td>\n",
       "      <td>9.358049</td>\n",
       "    </tr>\n",
       "    <tr>\n",
       "      <th>sample 7</th>\n",
       "      <td>5.486656</td>\n",
       "      <td>2.967658</td>\n",
       "      <td>0.031650</td>\n",
       "      <td>0.172330</td>\n",
       "      <td>9.216817</td>\n",
       "      <td>9.267126</td>\n",
       "    </tr>\n",
       "    <tr>\n",
       "      <th>sample 8</th>\n",
       "      <td>5.489112</td>\n",
       "      <td>3.049477</td>\n",
       "      <td>0.031291</td>\n",
       "      <td>0.172971</td>\n",
       "      <td>9.255413</td>\n",
       "      <td>9.137701</td>\n",
       "    </tr>\n",
       "    <tr>\n",
       "      <th>sample 9</th>\n",
       "      <td>5.509420</td>\n",
       "      <td>2.917354</td>\n",
       "      <td>0.031585</td>\n",
       "      <td>0.187922</td>\n",
       "      <td>9.309682</td>\n",
       "      <td>9.382509</td>\n",
       "    </tr>\n",
       "    <tr>\n",
       "      <th>sample 10</th>\n",
       "      <td>5.609041</td>\n",
       "      <td>2.831205</td>\n",
       "      <td>0.015657</td>\n",
       "      <td>0.156806</td>\n",
       "      <td>9.167919</td>\n",
       "      <td>9.350077</td>\n",
       "    </tr>\n",
       "    <tr>\n",
       "      <th>sample 11</th>\n",
       "      <td>5.333022</td>\n",
       "      <td>2.704322</td>\n",
       "      <td>0.031699</td>\n",
       "      <td>0.172342</td>\n",
       "      <td>9.281057</td>\n",
       "      <td>9.387396</td>\n",
       "    </tr>\n",
       "    <tr>\n",
       "      <th>sample 12</th>\n",
       "      <td>5.516805</td>\n",
       "      <td>3.110245</td>\n",
       "      <td>0.046871</td>\n",
       "      <td>0.252821</td>\n",
       "      <td>9.272825</td>\n",
       "      <td>9.263319</td>\n",
       "    </tr>\n",
       "    <tr>\n",
       "      <th>sample 13</th>\n",
       "      <td>5.475185</td>\n",
       "      <td>2.678127</td>\n",
       "      <td>0.022596</td>\n",
       "      <td>0.198313</td>\n",
       "      <td>8.665800</td>\n",
       "      <td>8.962941</td>\n",
       "    </tr>\n",
       "    <tr>\n",
       "      <th>sample 14</th>\n",
       "      <td>5.493974</td>\n",
       "      <td>2.987694</td>\n",
       "      <td>0.031233</td>\n",
       "      <td>0.177777</td>\n",
       "      <td>9.185665</td>\n",
       "      <td>9.533273</td>\n",
       "    </tr>\n",
       "    <tr>\n",
       "      <th>sample 15</th>\n",
       "      <td>5.519989</td>\n",
       "      <td>2.702412</td>\n",
       "      <td>0.047171</td>\n",
       "      <td>0.251392</td>\n",
       "      <td>9.023998</td>\n",
       "      <td>9.249733</td>\n",
       "    </tr>\n",
       "    <tr>\n",
       "      <th>sample 16</th>\n",
       "      <td>5.522127</td>\n",
       "      <td>3.107785</td>\n",
       "      <td>0.031458</td>\n",
       "      <td>0.126773</td>\n",
       "      <td>8.500882</td>\n",
       "      <td>9.388186</td>\n",
       "    </tr>\n",
       "    <tr>\n",
       "      <th>sample 17</th>\n",
       "      <td>5.523358</td>\n",
       "      <td>3.076983</td>\n",
       "      <td>0.031616</td>\n",
       "      <td>0.141146</td>\n",
       "      <td>9.169051</td>\n",
       "      <td>8.986631</td>\n",
       "    </tr>\n",
       "    <tr>\n",
       "      <th>sample 18</th>\n",
       "      <td>5.521228</td>\n",
       "      <td>2.985291</td>\n",
       "      <td>0.031241</td>\n",
       "      <td>0.195688</td>\n",
       "      <td>9.353096</td>\n",
       "      <td>9.407668</td>\n",
       "    </tr>\n",
       "    <tr>\n",
       "      <th>sample 19</th>\n",
       "      <td>5.519448</td>\n",
       "      <td>2.955704</td>\n",
       "      <td>0.015521</td>\n",
       "      <td>0.157338</td>\n",
       "      <td>9.281549</td>\n",
       "      <td>8.891154</td>\n",
       "    </tr>\n",
       "    <tr>\n",
       "      <th>sample 20</th>\n",
       "      <td>5.581931</td>\n",
       "      <td>2.987259</td>\n",
       "      <td>0.046962</td>\n",
       "      <td>0.188892</td>\n",
       "      <td>8.960535</td>\n",
       "      <td>9.329284</td>\n",
       "    </tr>\n",
       "  </tbody>\n",
       "</table>\n",
       "</div>"
      ],
      "text/plain": [
       "                knn   knn_pca        lr    lr_pca        rf    rf_pca\n",
       "sample 1   5.524789  3.204314  0.046875  0.219510  9.103432  9.275419\n",
       "sample 2   5.279866  2.424293  0.031258  0.127184  9.306986  9.328355\n",
       "sample 3   5.547308  2.968476  0.015623  0.157279  9.253816  9.386984\n",
       "sample 4   5.593665  3.046826  0.062933  0.236748  9.048225  9.513781\n",
       "sample 5   5.566937  3.033562  0.031637  0.191558  9.137695  9.247313\n",
       "sample 6   5.549124  2.990804  0.031856  0.141285  9.065421  9.358049\n",
       "sample 7   5.486656  2.967658  0.031650  0.172330  9.216817  9.267126\n",
       "sample 8   5.489112  3.049477  0.031291  0.172971  9.255413  9.137701\n",
       "sample 9   5.509420  2.917354  0.031585  0.187922  9.309682  9.382509\n",
       "sample 10  5.609041  2.831205  0.015657  0.156806  9.167919  9.350077\n",
       "sample 11  5.333022  2.704322  0.031699  0.172342  9.281057  9.387396\n",
       "sample 12  5.516805  3.110245  0.046871  0.252821  9.272825  9.263319\n",
       "sample 13  5.475185  2.678127  0.022596  0.198313  8.665800  8.962941\n",
       "sample 14  5.493974  2.987694  0.031233  0.177777  9.185665  9.533273\n",
       "sample 15  5.519989  2.702412  0.047171  0.251392  9.023998  9.249733\n",
       "sample 16  5.522127  3.107785  0.031458  0.126773  8.500882  9.388186\n",
       "sample 17  5.523358  3.076983  0.031616  0.141146  9.169051  8.986631\n",
       "sample 18  5.521228  2.985291  0.031241  0.195688  9.353096  9.407668\n",
       "sample 19  5.519448  2.955704  0.015521  0.157338  9.281549  8.891154\n",
       "sample 20  5.581931  2.987259  0.046962  0.188892  8.960535  9.329284"
      ]
     },
     "metadata": {},
     "output_type": "display_data"
    }
   ],
   "source": [
    "time_df = pd.DataFrame(time_dict, index=[\"sample {}\".format(i+1) for i in range(n_iterations)])\n",
    "display(time_df)"
   ]
  },
  {
   "cell_type": "code",
   "execution_count": 18,
   "id": "5b47ad29-c376-461a-8a19-3307bdd9089d",
   "metadata": {},
   "outputs": [
    {
     "data": {
      "text/html": [
       "<div>\n",
       "<style scoped>\n",
       "    .dataframe tbody tr th:only-of-type {\n",
       "        vertical-align: middle;\n",
       "    }\n",
       "\n",
       "    .dataframe tbody tr th {\n",
       "        vertical-align: top;\n",
       "    }\n",
       "\n",
       "    .dataframe thead th {\n",
       "        text-align: right;\n",
       "    }\n",
       "</style>\n",
       "<table border=\"1\" class=\"dataframe\">\n",
       "  <thead>\n",
       "    <tr style=\"text-align: right;\">\n",
       "      <th></th>\n",
       "      <th>knn</th>\n",
       "      <th>knn_pca</th>\n",
       "      <th>lr</th>\n",
       "      <th>lr_pca</th>\n",
       "      <th>rf</th>\n",
       "      <th>rf_pca</th>\n",
       "    </tr>\n",
       "  </thead>\n",
       "  <tbody>\n",
       "    <tr>\n",
       "      <th>count</th>\n",
       "      <td>20.000000</td>\n",
       "      <td>20.000000</td>\n",
       "      <td>20.000000</td>\n",
       "      <td>20.000000</td>\n",
       "      <td>20.000000</td>\n",
       "      <td>20.000000</td>\n",
       "    </tr>\n",
       "    <tr>\n",
       "      <th>mean</th>\n",
       "      <td>5.508149</td>\n",
       "      <td>2.936490</td>\n",
       "      <td>0.033337</td>\n",
       "      <td>0.181304</td>\n",
       "      <td>9.127993</td>\n",
       "      <td>9.282345</td>\n",
       "    </tr>\n",
       "    <tr>\n",
       "      <th>std</th>\n",
       "      <td>0.078041</td>\n",
       "      <td>0.184605</td>\n",
       "      <td>0.011956</td>\n",
       "      <td>0.037258</td>\n",
       "      <td>0.216064</td>\n",
       "      <td>0.171133</td>\n",
       "    </tr>\n",
       "    <tr>\n",
       "      <th>min</th>\n",
       "      <td>5.279866</td>\n",
       "      <td>2.424293</td>\n",
       "      <td>0.015521</td>\n",
       "      <td>0.126773</td>\n",
       "      <td>8.500882</td>\n",
       "      <td>8.891154</td>\n",
       "    </tr>\n",
       "    <tr>\n",
       "      <th>25%</th>\n",
       "      <td>5.492758</td>\n",
       "      <td>2.895816</td>\n",
       "      <td>0.031239</td>\n",
       "      <td>0.157161</td>\n",
       "      <td>9.061122</td>\n",
       "      <td>9.249128</td>\n",
       "    </tr>\n",
       "    <tr>\n",
       "      <th>50%</th>\n",
       "      <td>5.520609</td>\n",
       "      <td>2.986275</td>\n",
       "      <td>0.031600</td>\n",
       "      <td>0.175374</td>\n",
       "      <td>9.177358</td>\n",
       "      <td>9.328820</td>\n",
       "    </tr>\n",
       "    <tr>\n",
       "      <th>75%</th>\n",
       "      <td>5.547762</td>\n",
       "      <td>3.047489</td>\n",
       "      <td>0.035610</td>\n",
       "      <td>0.196345</td>\n",
       "      <td>9.274883</td>\n",
       "      <td>9.387087</td>\n",
       "    </tr>\n",
       "    <tr>\n",
       "      <th>max</th>\n",
       "      <td>5.609041</td>\n",
       "      <td>3.204314</td>\n",
       "      <td>0.062933</td>\n",
       "      <td>0.252821</td>\n",
       "      <td>9.353096</td>\n",
       "      <td>9.533273</td>\n",
       "    </tr>\n",
       "  </tbody>\n",
       "</table>\n",
       "</div>"
      ],
      "text/plain": [
       "             knn    knn_pca         lr     lr_pca         rf     rf_pca\n",
       "count  20.000000  20.000000  20.000000  20.000000  20.000000  20.000000\n",
       "mean    5.508149   2.936490   0.033337   0.181304   9.127993   9.282345\n",
       "std     0.078041   0.184605   0.011956   0.037258   0.216064   0.171133\n",
       "min     5.279866   2.424293   0.015521   0.126773   8.500882   8.891154\n",
       "25%     5.492758   2.895816   0.031239   0.157161   9.061122   9.249128\n",
       "50%     5.520609   2.986275   0.031600   0.175374   9.177358   9.328820\n",
       "75%     5.547762   3.047489   0.035610   0.196345   9.274883   9.387087\n",
       "max     5.609041   3.204314   0.062933   0.252821   9.353096   9.533273"
      ]
     },
     "metadata": {},
     "output_type": "display_data"
    }
   ],
   "source": [
    "display(time_df.describe())"
   ]
  },
  {
   "cell_type": "code",
   "execution_count": 19,
   "id": "59a56526-da65-4962-967a-683df251bb64",
   "metadata": {},
   "outputs": [],
   "source": [
    "time_df.to_csv(\"time_mnist.csv\", index=True)"
   ]
  },
  {
   "cell_type": "code",
   "execution_count": null,
   "id": "27da4ddc-251c-4954-ba02-c5083bb16097",
   "metadata": {},
   "outputs": [],
   "source": []
  }
 ],
 "metadata": {
  "kernelspec": {
   "display_name": "Python 3 (ipykernel)",
   "language": "python",
   "name": "python3"
  },
  "language_info": {
   "codemirror_mode": {
    "name": "ipython",
    "version": 3
   },
   "file_extension": ".py",
   "mimetype": "text/x-python",
   "name": "python",
   "nbconvert_exporter": "python",
   "pygments_lexer": "ipython3",
   "version": "3.10.13"
  }
 },
 "nbformat": 4,
 "nbformat_minor": 5
}
